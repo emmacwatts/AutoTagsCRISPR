{
  "cells": [
    {
      "cell_type": "markdown",
      "metadata": {
        "id": "view-in-github",
        "colab_type": "text"
      },
      "source": [
        "<a href=\"https://colab.research.google.com/github/emmacwatts/AutoTagsCRISPR/blob/main/runner.ipynb\" target=\"_parent\"><img src=\"https://colab.research.google.com/assets/colab-badge.svg\" alt=\"Open In Colab\"/></a>"
      ]
    },
    {
      "cell_type": "code",
      "execution_count": null,
      "metadata": {
        "id": "t6fL4hEvUCHF"
      },
      "outputs": [],
      "source": [
        "from utils_2022_12_15 import filter_gRNA\n",
        "from utils_2022_12_15 import does_log_exist\n",
        "from utils_2022_12_15 import make_list_of_dict_from_df\n",
        "from utils_2022_12_15 import make_dataframe_from_TFs_list\n",
        "from utils_2022_12_15 import find_best_gRNA\n",
        "import pandas as pd"
      ]
    },
    {
      "cell_type": "markdown",
      "metadata": {
        "id": "9XifEwj7UCHL"
      },
      "source": [
        "define file paths for gRNA files and initial dictonary for TFs"
      ]
    },
    {
      "cell_type": "code",
      "execution_count": null,
      "metadata": {
        "id": "unJyBqwCUCHO"
      },
      "outputs": [],
      "source": [
        "df={\n",
        "    \"start/stop\":\"start\",#is it N or C termini -> do we need to look at start or stop codon for teh cut \n",
        "    'genome_start_codon_pos':400, \n",
        "    'genome_stop_codon_pos':700, #or only 1 of those \n",
        "    'strand_type':'+',\n",
        "    \"sgRNA_list_pos\":[[401,425],[456,467],[478,489],[395,415]],#those wil be as genome positions -assumptions - the coordinates correspond to the 1st and last bp of the strand to which the gsRNA will be complementary to\n",
        "    \"sgRNA_list_values\":[\"AAGCGACTA\",\"AAAAAAAATAAAAA\",\"ATATATTTTTTTTTTAAAAA\",\"AGCGCGAAATAATA\"]\n",
        "}"
      ]
    },
    {
      "cell_type": "code",
      "execution_count": null,
      "metadata": {
        "id": "nHlbneo1UCHS"
      },
      "outputs": [],
      "source": [
        "gRNA_file = \"NoOffTarget_high_stringency.gff\"\n",
        "TF_names_list = \"TFs_mock.xlsx\"\n",
        "TF_genes_list = \"TF_log_mock.csv\"\n",
        "annotation = \"dmel-all-r6.48.gtf\"\n",
        "ref_genome = \"dmel-all-chromosome-r6.48.fasta\"\n",
        "transgenic_genome_chr2 = \"dmel6-nos-Cas9_on_2.fasta\"\n",
        "transgenic_genome_chr3 = \"dmel6-nos-Cas9_on_3.fasta\""
      ]
    },
    {
      "cell_type": "markdown",
      "metadata": {
        "id": "Xg8egaqiUCHU"
      },
      "source": [
        "F_dict = {\"ID\":\"lil_gene\", \"gene_region\":866200, \"strand\":\"+\", \"ref_seq\":\"GGATCCCTGAGATT\", \"transgenic_seq\":\"GGATCCCTGAGATT\"}"
      ]
    },
    {
      "cell_type": "markdown",
      "metadata": {
        "id": "uN0dbiS8UCHV"
      },
      "source": [
        "oes_log_exist(TF_names_list, ref_genome, annotation, transgenic_genome_chr2, transgenic_genome_chr3)"
      ]
    },
    {
      "cell_type": "code",
      "execution_count": null,
      "metadata": {
        "id": "4NiGqfKDUCHW"
      },
      "outputs": [],
      "source": [
        "TF_dict_of_dict = make_dataframe_from_TFs_list(TF_names_list, ref_genome, annotation, transgenic_genome_chr2, transgenic_genome_chr3)"
      ]
    },
    {
      "cell_type": "code",
      "execution_count": null,
      "metadata": {
        "id": "GoUmnIM2UCHW"
      },
      "outputs": [],
      "source": [
        "for TF_dict in TF_dict_of_dict:\n",
        "\n",
        "    # dictionary that translates the dictionary from filter_gRNA to find_best_gRNA function\n",
        "    gRNA_dict = {}\n",
        "    gRNA_dict[\"start/stop\"] = TF_dict_of_dict[TF_dict][\"Gene_Region\"]\n",
        "    if gRNA_dict[\"start/stop\"] == \"start_codon\":\n",
        "        gRNA_dict[\"genome_start_codon_pos\"] = TF_dict_of_dict[TF_dict][\"Start\"]\n",
        "    else:\n",
        "        gRNA_dict[\"genome_start_codon_pos\"] = TF_dict_of_dict[TF_dict][\"Stop\"]\n",
        "    gRNA_dict[\"strand_type\"] = TF_dict_of_dict[TF_dict][\"Strand\"]\n",
        "    gRNA_dict[\"\"]\n",
        "    gRNA_hits = filter_gRNA(gRNA_file,TF_dict_of_dict[TF_dict])\n",
        "    if gRNA_hits is not \"mismatch\":\n",
        "        gRNA_dict\n",
        "    find_best_gRNA()"
      ]
    }
  ],
  "metadata": {
    "kernelspec": {
      "display_name": "Python 3",
      "language": "python",
      "name": "python3"
    },
    "language_info": {
      "codemirror_mode": {
        "name": "ipython",
        "version": 3
      },
      "file_extension": ".py",
      "mimetype": "text/x-python",
      "name": "python",
      "nbconvert_exporter": "python",
      "pygments_lexer": "ipython3",
      "version": "3.6.4"
    },
    "colab": {
      "provenance": [],
      "include_colab_link": true
    }
  },
  "nbformat": 4,
  "nbformat_minor": 0
}