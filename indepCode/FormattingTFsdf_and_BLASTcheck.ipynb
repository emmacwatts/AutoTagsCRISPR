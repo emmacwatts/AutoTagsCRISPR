{
  "cells": [
    {
      "cell_type": "markdown",
      "metadata": {
        "colab_type": "text",
        "id": "view-in-github"
      },
      "source": [
        "<a href=\"https://colab.research.google.com/github/emmacwatts/AutoTagsCRISPR/blob/main/FormattingTFsdf_and_BLASTcheck.ipynb\" target=\"_parent\"><img src=\"https://colab.research.google.com/assets/colab-badge.svg\" alt=\"Open In Colab\"/></a>"
      ]
    },
    {
      "cell_type": "code",
      "execution_count": null,
      "metadata": {
        "id": "yGSrvMv42TrN"
      },
      "outputs": [],
      "source": [
        "def make_dataframe_from_TFs_list(TF_list, ref_genome, annotation):\n",
        "    '''\n",
        "    Extracts information and sequence region for genes of interest (TFs) for design of primers per gene.\n",
        "\n",
        "    Input: \n",
        "      TFs_list: excel file of query sequences with Gene_ID and Transcript_ID\n",
        "      ref_genome: fasta file for reference genome\n",
        "      annotation: .gtf file for ref_genome\n",
        "    \n",
        "    Output\n",
        "      TFsdf: dataframe of TF information and sequences\n",
        "      TFsdict_of_dict: TFsdf as a dictionary of dictionaries per index\n",
        "    '''\n",
        "\n",
        "    import pandas as pd\n",
        "    from Bio import SeqIO\n",
        "\n",
        "    #This is the input file containing the TFs we want to query\n",
        "    #Imported as a pandas dataframe\n",
        "    queryTFsdf = pd.read_excel(TF_list)\n",
        "\n",
        "    #This is the .gtf file with annotations for each gene on the reference genome\n",
        "    refAnnotationsHeaders = [\"Chromosome\", \"Source\", \"Gene_Region\", \"Start\", \"Stop\", \"Score\", \"Strand\", \"Frame\", \"Attribute\"]\n",
        "    refGenomeAnnotation = pd.read_csv(annotation, sep = \"\\t\", header = None, index_col = False, names = refAnnotationsHeaders)\n",
        "\n",
        "    #This is the FASTA file of the reference genome sequence\n",
        "    refSeqPerChromosome = {}\n",
        "    for seq in SeqIO.parse(open(ref_genome), 'fasta'):\n",
        "        refSeqPerChromosome[seq.id] = seq.seq\n",
        "    \n",
        "    #This is to reformat the \"Attribute\" category in refGenomeAnnotation, to extract Gene_ID, Gene_Symbol, and Transcript ID\n",
        "    index = 0\n",
        "\n",
        "    #Add new categories to the dataframe\n",
        "    refGenomeAnnotation = refGenomeAnnotation.assign(Gene_ID = \"\", Gene_Symbol = \"\", Transcript_ID = \"\")\n",
        "\n",
        "    #For each attribute value, extract the gene ID and symbol and add this to the new categories\n",
        "    for attribute in refGenomeAnnotation['Attribute']:\n",
        "        fullatt = (refGenomeAnnotation.loc[index][\"Attribute\"]).replace(\";\", \"\")\n",
        "        fullatt = fullatt.replace('\"', \"\")\n",
        "        fullattsplit = fullatt.split(\" \")\n",
        "        refGenomeAnnotation.at[index,\"Gene_ID\"] = fullattsplit[1]\n",
        "        refGenomeAnnotation.at[index,\"Gene_Symbol\"] = fullattsplit[3]\n",
        "        if len(fullattsplit) == 8:\n",
        "            refGenomeAnnotation.at[index,\"Transcript_ID\"] = fullattsplit[5]\n",
        "        index+=1\n",
        "\n",
        "    #Delete Attributes category\n",
        "    del refGenomeAnnotation[\"Attribute\"]\n",
        "\n",
        "    #Select only rows that TFs are in, and keep only the start and stop codon gene regions\n",
        "\n",
        "    refGenomeAnnotation = refGenomeAnnotation.loc[refGenomeAnnotation[\"Gene_Region\"].isin([\"start_codon\", \"stop_codon\"])]\n",
        "\n",
        "    TFsdf = refGenomeAnnotation[[\"Gene_ID\", \"Gene_Symbol\", \"Transcript_ID\", \"Chromosome\", \"Gene_Region\", \"Start\", \"Stop\", \"Strand\"]].loc[refGenomeAnnotation[\"Gene_ID\"].isin(queryTFsdf[\"Flybase_ID\"])]\n",
        "\n",
        "    #Add reference genome sequence per gene region\n",
        "    #This will correspond to 1.3kb upstream and downstream of ATG/stop codon \n",
        "    TFsdf = TFsdf.assign(Reference_Seq = \"\")\n",
        "\n",
        "    for index, rowcontents in TFsdf.iterrows():\n",
        "        if rowcontents[\"Strand\"] == \"+\":\n",
        "\n",
        "            #Define 2.6kb gene region\n",
        "            regionStart = rowcontents[\"Start\"] - 1701\n",
        "            regionStop = rowcontents[\"Stop\"] + 1700\n",
        "\n",
        "            #Add reference sequence\n",
        "            TFsdf.at[index,\"Reference_Seq\"] = str(refSeqPerChromosome[rowcontents[\"Chromosome\"]][regionStart:regionStop])\n",
        "\n",
        "        if rowcontents[\"Strand\"] == \"-\":\n",
        "\n",
        "            #Define 2.6kb gene region\n",
        "            regionStart = rowcontents[\"Start\"] - 1701\n",
        "            regionStop = rowcontents[\"Stop\"] + 1700\n",
        "\n",
        "            #Add reference sequence\n",
        "            refPosStrandSeq = str(refSeqPerChromosome[rowcontents[\"Chromosome\"]][regionStart:regionStop]) #This is the + strand seq, so goes from end to beginning\n",
        "            TFsdf.at[index,\"Reference_Seq\"] = revComp(refPosStrandSeq)\n",
        "\n",
        "    #re-index\n",
        "    TFsdf = TFsdf.reset_index()\n",
        "    del TFsdf[\"index\"]\n",
        "\n",
        "    #Create a dictionary of dictionaries for the df\n",
        "    TFsdict_of_dict = {}\n",
        "    for index, rowcontents in TFsdf.iterrows():\n",
        "        TFsdict_of_dict[index] = rowcontents.to_dict()\n",
        "\n",
        "    return TFsdf, TFsdict_of_dict"
      ]
    },
    {
      "cell_type": "markdown",
      "metadata": {
        "id": "S0ys0vFr7loF"
      },
      "source": [
        "# BLAST Function"
      ]
    },
    {
      "cell_type": "code",
      "execution_count": null,
      "metadata": {
        "id": "MpHUKfFP8UgW"
      },
      "outputs": [],
      "source": [
        "#Primers output will be a dataframe, for BLAST we need FASTA:\n",
        "def dftoFASTA(primersdf, transgenicFile):\n",
        "  \"\"\"\n",
        "  Reformats a primers dataframe to the appropriate format for a BLAST search. \n",
        "\n",
        "  Input: \n",
        "    primersdf: a dataframe of primers\n",
        "    transgenicFile: filename and path for fasta file to be created\n",
        "\n",
        "  Output: transgenicFile - this is a fasta file of the primers identified by all other rows in the dataframe.\n",
        "\n",
        "  \"\"\"\n",
        "  import pandas as pd\n",
        "  from Bio import SeqIO\n",
        "\n",
        "  primersFASTA = open(transgenicFile, \"w\")\n",
        "\n",
        "  #Per row in the dataframe, concatenate all information as a header, and primer sequence as sequence\n",
        "  #Write this into the fasta file as>header \\n sequence\n",
        "  for index, rowcontents in primersdf.iterrows():\n",
        "    split = (str(rowcontents).split())\n",
        "    header = (\">\" + \"primer\" + str(index))\n",
        "    sequence = split[-7]\n",
        "\n",
        "    primersFASTA.write(str(header) + \"\\n\" + str(sequence) + \"\\n\")\n",
        "\n",
        "  primersFASTA.close()\n"
      ]
    },
    {
      "cell_type": "code",
      "execution_count": null,
      "metadata": {
        "id": "JU9XqREg7jAA"
      },
      "outputs": [],
      "source": [
        "#use shell to run BLAST on primers against custom transgenic reference file\n",
        "%%shell\n",
        "\n",
        "#I've made a custom transgenic reference FASTA which uses the appropriate transgenic strain for each chromosome\n",
        "#(has chromosome 3 from nos-Cas9_on_2 and all other chromosomes from nos-Cas9_on_3)\n",
        "#Use this to BLAST against - \"transgenicRef.fasta\"\n",
        "\n",
        "#install BLAST (if necessary)\n",
        "gunzip 'ncbi-blast-2.13.0+-x64-linux.tar.gz'\n",
        "tar -xvf 'ncbi-blast-2.13.0+-x64-linux.tar'\n",
        "#change directory to ncbi-blast-2.13.0+/\n",
        "\n",
        "#run BLAST\n",
        "makeblastdb -in transgenicRef.fasta -dbtype nucl -parse_seqids \n",
        "blastn -query queryprimers.fasta -subject transgenicRef.fasta -evalue 1e-23 -outfmt 6 -out primerblast.txt -max_target_seqs 2\n",
        "  #This output format is as simple as possible, so that we get as small a file when querying many primers at once"
      ]
    },
    {
      "cell_type": "code",
      "execution_count": null,
      "metadata": {
        "id": "Evml95co77oq"
      },
      "outputs": [],
      "source": [
        "def primerCountBLAST(BLASTresults, primersdf):\n",
        "  '''\n",
        "  Checks for the number of exact matches of a primer against a reference genome.\n",
        "\n",
        "  Input:\n",
        "  BLASTresults = txt file of BLAST results in -outfmt 6\n",
        "  primersdf = p\n",
        "\n",
        "  Output:\n",
        "  faultyPrimers: the primers from primersdf that match zero times or more than once to the reference genome. Given in dataframe format.\n",
        "  '''  \n",
        "  import pandas as pd\n",
        "  from Bio import SeqIO\n",
        "\n",
        "  #Append the primers df with a new column counting the number of instances of that primer against the reference genome\n",
        "  primersdf[\"Match Count\"] = \"0\"\n",
        "\n",
        "  #Open BLAST results\n",
        "  primerBLAST = open(BLASTresults, \"r\")\n",
        "  primerBLASTlines = primerBLAST.readlines()\n",
        "\n",
        "  #Each 100% match will be labelled with the primer name, so count the instances of each \n",
        "  #primer name in the file and append this to \"Match Count\" in primersdf\n",
        "  for line in primerBLASTlines:\n",
        "    lineattributes = (line.split(\"\\t\"))\n",
        "    primerindex = int(lineattributes[0].replace(\"primer\", \"\"))\n",
        "    currentcount = primersdf.at[primerindex, \"Match Count\"]\n",
        "    primersdf.at[primerindex, \"Match Count\"] = int(currentcount) + 1\n",
        "  \n",
        "  #Keep only faulty primers\n",
        "  faultyPrimers = primersdf\n",
        "  for index, rowcontents in faultyPrimers.iterrows():\n",
        "    if rowcontents[\"Match Count\"] == 1:\n",
        "      faultyPrimers.drop([index], axis = 0, inplace = True)\n",
        "\n",
        "  return faultyPrimers"
      ]
    }
  ],
  "metadata": {
    "colab": {
      "authorship_tag": "ABX9TyO8SOdOnR7SVFpsPUC0q0SS",
      "include_colab_link": true,
      "provenance": []
    },
    "kernelspec": {
      "display_name": "Python 3",
      "language": "python",
      "name": "python3"
    },
    "language_info": {
      "name": "python",
      "version": "3.10.6 (main, Nov 14 2022, 16:10:14) [GCC 11.3.0]"
    },
    "vscode": {
      "interpreter": {
        "hash": "916dbcbb3f70747c44a77c7bcd40155683ae19c65e1c03b4aa3499c5328201f1"
      }
    }
  },
  "nbformat": 4,
  "nbformat_minor": 0
}
