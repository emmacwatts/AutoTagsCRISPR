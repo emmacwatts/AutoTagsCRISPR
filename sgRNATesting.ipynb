{
 "cells": [
  {
   "cell_type": "code",
   "execution_count": 2,
   "metadata": {},
   "outputs": [],
   "source": [
    "#import reference genome (non-transgenic)\n",
    "from Bio import SeqIO\n",
    "ref_genome = 'inputfiles/dmel-all-chromosome-r6.48.fasta'\n",
    "\n",
    "#Set up a dictionary of the genome - chromosome ID: sequence\n",
    "refSeqPerChromosome = {}\n",
    "for seq in SeqIO.parse(open(ref_genome), 'fasta'):\n",
    "    refSeqPerChromosome[seq.id] = seq.seq\n"
   ]
  },
  {
   "attachments": {},
   "cell_type": "markdown",
   "metadata": {},
   "source": [
    "### Testing various sgRNAs from the optimal sgRNAs mock file\n",
    "\n",
    "I did this by printing the sequence that should correspond to the sgRNAs. I used sgRNAs from the gff annotation files to make sure they correspond to the genome sequence we have, and sgRNAs from the 'optimal_sgRNAs_mock.xlsx' file. To include the full sgRNA, I used: [chromosome][start position -1: stop position]"
   ]
  },
  {
   "cell_type": "code",
   "execution_count": 6,
   "metadata": {},
   "outputs": [
    {
     "name": "stdout",
     "output_type": "stream",
     "text": [
      "CCGCAACAGTGCCTTCAGCGTCA\n",
      "GTATCGCCAAAGGCGTTTCACGG\n",
      "GTATCGCCAAAGGCGTTTCACGG\n",
      "CCTGTGACGTCGCCATCATTTTG\n",
      "GAGTTCTTTTGCAGCATTTATGG\n",
      "CCTGCCTAGAGAAGTGATCACAT\n"
     ]
    }
   ],
   "source": [
    "#This one is from the gff file and should be on the - strand of the Y chromosome\n",
    "sgRNA1 = refSeqPerChromosome['Y'][826134:826157]\n",
    "print(sgRNA1)\n",
    "#prints CCGCAACAGTGCCTTCAGCGTCA\n",
    "\n",
    "#This one is from the gff file and should be on the + strand of the Y chromosome\n",
    "sgRNA2 = refSeqPerChromosome['Y'][827497:827520]\n",
    "print(sgRNA2)\n",
    "#prints GTATCGCCAAAGGCGTTTCACGG\n",
    "\n",
    "#This one is from the gff file and should be on the + strand of the Y chromosome\n",
    "sgRNA3 = refSeqPerChromosome['Y'][830152:830175]\n",
    "print(sgRNA2) \n",
    "#prints GTATCGCCAAAGGCGTTTCACGG\n",
    "\n",
    "#This is from the optimal mock file - FBgn0025635, start codon, -, 3R\n",
    "sgRNA4 = refSeqPerChromosome['3R'][18515313:18515336]\n",
    "print(sgRNA4)\n",
    "#prints CCTGTGACGTCGCCATCATTTTG\n",
    "\n",
    "#This is from the optimal mock file - FBgn0004652, start, -, 3R\n",
    "sgRNA5 = refSeqPerChromosome['3R'][18506502:18506525]\n",
    "print(sgRNA5)\n",
    "#prints GAGTTCTTTTGCAGCATTTATGG\n",
    "#I've checked the original annotation and this one should be +\n",
    "\n",
    "#This is from the optimal mock file - FBgn0031086, -, 3R \n",
    "sgRNA6 = refSeqPerChromosome['3R'][18426127:18426150]\n",
    "print(sgRNA6)\n",
    "#prints CCTGCCTAGAGAAGTGATCACAT"
   ]
  }
 ],
 "metadata": {
  "kernelspec": {
   "display_name": "Python 3",
   "language": "python",
   "name": "python3"
  },
  "language_info": {
   "codemirror_mode": {
    "name": "ipython",
    "version": 3
   },
   "file_extension": ".py",
   "mimetype": "text/x-python",
   "name": "python",
   "nbconvert_exporter": "python",
   "pygments_lexer": "ipython3",
   "version": "3.11.1"
  },
  "orig_nbformat": 4
 },
 "nbformat": 4,
 "nbformat_minor": 2
}
