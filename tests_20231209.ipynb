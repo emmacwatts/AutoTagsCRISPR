{
 "cells": [
  {
   "cell_type": "code",
   "execution_count": 18,
   "metadata": {},
   "outputs": [
    {
     "data": {
      "text/plain": [
       "'CAT'"
      ]
     },
     "execution_count": 18,
     "metadata": {},
     "output_type": "execute_result"
    }
   ],
   "source": [
    "from sgRNAutils import revComp\n",
    "revComp('ATG')"
   ]
  },
  {
   "cell_type": "code",
   "execution_count": 19,
   "metadata": {},
   "outputs": [
    {
     "data": {
      "text/plain": [
       "Seq('TGCTAGAGGG')"
      ]
     },
     "execution_count": 19,
     "metadata": {},
     "output_type": "execute_result"
    }
   ],
   "source": [
    "from sgRNAutils import refSeq\n",
    "refSeqPerChromosome= refSeq()\n",
    "refSeqPerChromosome['X'][20000080:20000090]"
   ]
  },
  {
   "cell_type": "code",
   "execution_count": 17,
   "metadata": {},
   "outputs": [
    {
     "ename": "KeyboardInterrupt",
     "evalue": "",
     "output_type": "error",
     "traceback": [
      "\u001b[1;31m---------------------------------------------------------------------------\u001b[0m",
      "\u001b[1;31mKeyboardInterrupt\u001b[0m                         Traceback (most recent call last)",
      "Cell \u001b[1;32mIn[17], line 3\u001b[0m\n\u001b[0;32m      1\u001b[0m \u001b[38;5;66;03m# This cell takes about 2 min to run but you can avoid it by running the next cell and loading the output from this cell from MockMaterials\u001b[39;00m\n\u001b[0;32m      2\u001b[0m \u001b[38;5;28;01mfrom\u001b[39;00m \u001b[38;5;21;01msgRNAutils\u001b[39;00m \u001b[38;5;28;01mimport\u001b[39;00m make_dataframe_from_TFs_list\n\u001b[1;32m----> 3\u001b[0m TFsdf \u001b[38;5;241m=\u001b[39m make_dataframe_from_TFs_list(\u001b[38;5;124m\"\u001b[39m\u001b[38;5;124minputfiles/TFs.xlsx\u001b[39m\u001b[38;5;124m\"\u001b[39m, refSeqPerChromosome)\n\u001b[0;32m      4\u001b[0m display(TFsdf)\n",
      "File \u001b[1;32mc:\\Users\\magd5549\\OneDrive - Nexus365\\Bioinformatics\\AutoTagsCRISPR\\sgRNAutils.py:73\u001b[0m, in \u001b[0;36mmake_dataframe_from_TFs_list\u001b[1;34m(TF_list, refSeqPerChromosome, annotation)\u001b[0m\n\u001b[0;32m     71\u001b[0m fullattsplit \u001b[38;5;241m=\u001b[39m fullatt\u001b[38;5;241m.\u001b[39msplit(\u001b[38;5;124m\"\u001b[39m\u001b[38;5;124m \u001b[39m\u001b[38;5;124m\"\u001b[39m)\n\u001b[0;32m     72\u001b[0m refGenomeAnnotation\u001b[38;5;241m.\u001b[39mat[index,\u001b[38;5;124m\"\u001b[39m\u001b[38;5;124mGene_ID\u001b[39m\u001b[38;5;124m\"\u001b[39m] \u001b[38;5;241m=\u001b[39m fullattsplit[\u001b[38;5;241m1\u001b[39m]\n\u001b[1;32m---> 73\u001b[0m refGenomeAnnotation\u001b[38;5;241m.\u001b[39mat[index,\u001b[38;5;124m\"\u001b[39m\u001b[38;5;124mGene_Symbol\u001b[39m\u001b[38;5;124m\"\u001b[39m] \u001b[38;5;241m=\u001b[39m fullattsplit[\u001b[38;5;241m3\u001b[39m]\n\u001b[0;32m     74\u001b[0m \u001b[38;5;28;01mif\u001b[39;00m \u001b[38;5;28mlen\u001b[39m(fullattsplit) \u001b[38;5;241m>\u001b[39m \u001b[38;5;241m4\u001b[39m:\n\u001b[0;32m     75\u001b[0m     refGenomeAnnotation\u001b[38;5;241m.\u001b[39mat[index,\u001b[38;5;124m\"\u001b[39m\u001b[38;5;124mTranscript_ID\u001b[39m\u001b[38;5;124m\"\u001b[39m] \u001b[38;5;241m=\u001b[39m fullattsplit[\u001b[38;5;241m5\u001b[39m]\n",
      "File \u001b[1;32mc:\\ProgramData\\anaconda3\\envs\\AutoTagsEnv\\Lib\\site-packages\\pandas\\core\\indexing.py:2499\u001b[0m, in \u001b[0;36m_AtIndexer.__setitem__\u001b[1;34m(self, key, value)\u001b[0m\n\u001b[0;32m   2496\u001b[0m     \u001b[38;5;28mself\u001b[39m\u001b[38;5;241m.\u001b[39mobj\u001b[38;5;241m.\u001b[39mloc[key] \u001b[38;5;241m=\u001b[39m value\n\u001b[0;32m   2497\u001b[0m     \u001b[38;5;28;01mreturn\u001b[39;00m\n\u001b[1;32m-> 2499\u001b[0m \u001b[38;5;28;01mreturn\u001b[39;00m \u001b[38;5;28msuper\u001b[39m()\u001b[38;5;241m.\u001b[39m\u001b[38;5;21m__setitem__\u001b[39m(key, value)\n",
      "File \u001b[1;32mc:\\ProgramData\\anaconda3\\envs\\AutoTagsEnv\\Lib\\site-packages\\pandas\\core\\indexing.py:2455\u001b[0m, in \u001b[0;36m_ScalarAccessIndexer.__setitem__\u001b[1;34m(self, key, value)\u001b[0m\n\u001b[0;32m   2452\u001b[0m \u001b[38;5;28;01mif\u001b[39;00m \u001b[38;5;28mlen\u001b[39m(key) \u001b[38;5;241m!=\u001b[39m \u001b[38;5;28mself\u001b[39m\u001b[38;5;241m.\u001b[39mndim:\n\u001b[0;32m   2453\u001b[0m     \u001b[38;5;28;01mraise\u001b[39;00m \u001b[38;5;167;01mValueError\u001b[39;00m(\u001b[38;5;124m\"\u001b[39m\u001b[38;5;124mNot enough indexers for scalar access (setting)!\u001b[39m\u001b[38;5;124m\"\u001b[39m)\n\u001b[1;32m-> 2455\u001b[0m \u001b[38;5;28mself\u001b[39m\u001b[38;5;241m.\u001b[39mobj\u001b[38;5;241m.\u001b[39m_set_value(\u001b[38;5;241m*\u001b[39mkey, value\u001b[38;5;241m=\u001b[39mvalue, takeable\u001b[38;5;241m=\u001b[39m\u001b[38;5;28mself\u001b[39m\u001b[38;5;241m.\u001b[39m_takeable)\n",
      "File \u001b[1;32mc:\\ProgramData\\anaconda3\\envs\\AutoTagsEnv\\Lib\\site-packages\\pandas\\core\\frame.py:4339\u001b[0m, in \u001b[0;36mDataFrame._set_value\u001b[1;34m(self, index, col, value, takeable)\u001b[0m\n\u001b[0;32m   4337\u001b[0m         icol \u001b[38;5;241m=\u001b[39m \u001b[38;5;28mself\u001b[39m\u001b[38;5;241m.\u001b[39mcolumns\u001b[38;5;241m.\u001b[39mget_loc(col)\n\u001b[0;32m   4338\u001b[0m         iindex \u001b[38;5;241m=\u001b[39m \u001b[38;5;28mself\u001b[39m\u001b[38;5;241m.\u001b[39mindex\u001b[38;5;241m.\u001b[39mget_loc(index)\n\u001b[1;32m-> 4339\u001b[0m     \u001b[38;5;28mself\u001b[39m\u001b[38;5;241m.\u001b[39m_mgr\u001b[38;5;241m.\u001b[39mcolumn_setitem(icol, iindex, value, inplace_only\u001b[38;5;241m=\u001b[39m\u001b[38;5;28;01mTrue\u001b[39;00m)\n\u001b[0;32m   4340\u001b[0m     \u001b[38;5;28mself\u001b[39m\u001b[38;5;241m.\u001b[39m_clear_item_cache()\n\u001b[0;32m   4342\u001b[0m \u001b[38;5;28;01mexcept\u001b[39;00m (\u001b[38;5;167;01mKeyError\u001b[39;00m, \u001b[38;5;167;01mTypeError\u001b[39;00m, \u001b[38;5;167;01mValueError\u001b[39;00m, LossySetitemError):\n\u001b[0;32m   4343\u001b[0m     \u001b[38;5;66;03m# get_loc might raise a KeyError for missing labels (falling back\u001b[39;00m\n\u001b[0;32m   4344\u001b[0m     \u001b[38;5;66;03m#  to (i)loc will do expansion of the index)\u001b[39;00m\n\u001b[0;32m   4345\u001b[0m     \u001b[38;5;66;03m# column_setitem will do validation that may raise TypeError,\u001b[39;00m\n\u001b[0;32m   4346\u001b[0m     \u001b[38;5;66;03m#  ValueError, or LossySetitemError\u001b[39;00m\n\u001b[0;32m   4347\u001b[0m     \u001b[38;5;66;03m# set using a non-recursive method & reset the cache\u001b[39;00m\n",
      "File \u001b[1;32mc:\\ProgramData\\anaconda3\\envs\\AutoTagsEnv\\Lib\\site-packages\\pandas\\core\\internals\\managers.py:1306\u001b[0m, in \u001b[0;36mBlockManager.column_setitem\u001b[1;34m(self, loc, idx, value, inplace_only)\u001b[0m\n\u001b[0;32m   1304\u001b[0m col_mgr \u001b[38;5;241m=\u001b[39m \u001b[38;5;28mself\u001b[39m\u001b[38;5;241m.\u001b[39miget(loc, track_ref\u001b[38;5;241m=\u001b[39m\u001b[38;5;28;01mFalse\u001b[39;00m)\n\u001b[0;32m   1305\u001b[0m \u001b[38;5;28;01mif\u001b[39;00m inplace_only:\n\u001b[1;32m-> 1306\u001b[0m     col_mgr\u001b[38;5;241m.\u001b[39msetitem_inplace(idx, value)\n\u001b[0;32m   1307\u001b[0m \u001b[38;5;28;01melse\u001b[39;00m:\n\u001b[0;32m   1308\u001b[0m     new_mgr \u001b[38;5;241m=\u001b[39m col_mgr\u001b[38;5;241m.\u001b[39msetitem((idx,), value)\n",
      "File \u001b[1;32mc:\\ProgramData\\anaconda3\\envs\\AutoTagsEnv\\Lib\\site-packages\\pandas\\core\\internals\\managers.py:1991\u001b[0m, in \u001b[0;36mSingleBlockManager.setitem_inplace\u001b[1;34m(self, indexer, value)\u001b[0m\n\u001b[0;32m   1988\u001b[0m     \u001b[38;5;28mself\u001b[39m\u001b[38;5;241m.\u001b[39mblocks \u001b[38;5;241m=\u001b[39m (\u001b[38;5;28mself\u001b[39m\u001b[38;5;241m.\u001b[39m_block\u001b[38;5;241m.\u001b[39mcopy(),)\n\u001b[0;32m   1989\u001b[0m     \u001b[38;5;28mself\u001b[39m\u001b[38;5;241m.\u001b[39m_cache\u001b[38;5;241m.\u001b[39mclear()\n\u001b[1;32m-> 1991\u001b[0m \u001b[38;5;28msuper\u001b[39m()\u001b[38;5;241m.\u001b[39msetitem_inplace(indexer, value)\n",
      "File \u001b[1;32mc:\\ProgramData\\anaconda3\\envs\\AutoTagsEnv\\Lib\\site-packages\\pandas\\core\\internals\\base.py:326\u001b[0m, in \u001b[0;36mSingleDataManager.setitem_inplace\u001b[1;34m(self, indexer, value)\u001b[0m\n\u001b[0;32m    322\u001b[0m \u001b[38;5;66;03m# EAs will do this validation in their own __setitem__ methods.\u001b[39;00m\n\u001b[0;32m    323\u001b[0m \u001b[38;5;28;01mif\u001b[39;00m \u001b[38;5;28misinstance\u001b[39m(arr, np\u001b[38;5;241m.\u001b[39mndarray):\n\u001b[0;32m    324\u001b[0m     \u001b[38;5;66;03m# Note: checking for ndarray instead of np.dtype means we exclude\u001b[39;00m\n\u001b[0;32m    325\u001b[0m     \u001b[38;5;66;03m#  dt64/td64, which do their own validation.\u001b[39;00m\n\u001b[1;32m--> 326\u001b[0m     value \u001b[38;5;241m=\u001b[39m np_can_hold_element(arr\u001b[38;5;241m.\u001b[39mdtype, value)\n\u001b[0;32m    328\u001b[0m \u001b[38;5;28;01mif\u001b[39;00m \u001b[38;5;28misinstance\u001b[39m(value, np\u001b[38;5;241m.\u001b[39mndarray) \u001b[38;5;129;01mand\u001b[39;00m value\u001b[38;5;241m.\u001b[39mndim \u001b[38;5;241m==\u001b[39m \u001b[38;5;241m1\u001b[39m \u001b[38;5;129;01mand\u001b[39;00m \u001b[38;5;28mlen\u001b[39m(value) \u001b[38;5;241m==\u001b[39m \u001b[38;5;241m1\u001b[39m:\n\u001b[0;32m    329\u001b[0m     \u001b[38;5;66;03m# NumPy 1.25 deprecation: https://github.com/numpy/numpy/pull/10615\u001b[39;00m\n\u001b[0;32m    330\u001b[0m     value \u001b[38;5;241m=\u001b[39m value[\u001b[38;5;241m0\u001b[39m, \u001b[38;5;241m.\u001b[39m\u001b[38;5;241m.\u001b[39m\u001b[38;5;241m.\u001b[39m]\n",
      "File \u001b[1;32mc:\\ProgramData\\anaconda3\\envs\\AutoTagsEnv\\Lib\\site-packages\\pandas\\core\\dtypes\\cast.py:1724\u001b[0m, in \u001b[0;36mnp_can_hold_element\u001b[1;34m(dtype, element)\u001b[0m\n\u001b[0;32m   1720\u001b[0m     \u001b[38;5;28;01mexcept\u001b[39;00m (\u001b[38;5;167;01mTypeError\u001b[39;00m, LossySetitemError):\n\u001b[0;32m   1721\u001b[0m         \u001b[38;5;28;01mreturn\u001b[39;00m \u001b[38;5;28;01mFalse\u001b[39;00m\n\u001b[1;32m-> 1724\u001b[0m \u001b[38;5;28;01mdef\u001b[39;00m \u001b[38;5;21mnp_can_hold_element\u001b[39m(dtype: np\u001b[38;5;241m.\u001b[39mdtype, element: Any) \u001b[38;5;241m-\u001b[39m\u001b[38;5;241m>\u001b[39m Any:\n\u001b[0;32m   1725\u001b[0m \u001b[38;5;250m    \u001b[39m\u001b[38;5;124;03m\"\"\"\u001b[39;00m\n\u001b[0;32m   1726\u001b[0m \u001b[38;5;124;03m    Raise if we cannot losslessly set this element into an ndarray with this dtype.\u001b[39;00m\n\u001b[0;32m   1727\u001b[0m \n\u001b[1;32m   (...)\u001b[0m\n\u001b[0;32m   1739\u001b[0m \u001b[38;5;124;03m    ValueError : If we cannot losslessly store this element with this dtype.\u001b[39;00m\n\u001b[0;32m   1740\u001b[0m \u001b[38;5;124;03m    \"\"\"\u001b[39;00m\n\u001b[0;32m   1741\u001b[0m     \u001b[38;5;28;01mif\u001b[39;00m dtype \u001b[38;5;241m==\u001b[39m _dtype_obj:\n",
      "\u001b[1;31mKeyboardInterrupt\u001b[0m: "
     ]
    }
   ],
   "source": [
    "# This cell takes about 2 min to run but you can avoid it by running the next cell and loading the output from this cell from MockMaterials\n",
    "from sgRNAutils import make_dataframe_from_TFs_list\n",
    "TFsdf = make_dataframe_from_TFs_list(\"inputfiles/TFs.xlsx\", refSeqPerChromosome)\n",
    "display(TFsdf)"
   ]
  },
  {
   "cell_type": "code",
   "execution_count": 20,
   "metadata": {},
   "outputs": [
    {
     "data": {
      "text/html": [
       "<div>\n",
       "<style scoped>\n",
       "    .dataframe tbody tr th:only-of-type {\n",
       "        vertical-align: middle;\n",
       "    }\n",
       "\n",
       "    .dataframe tbody tr th {\n",
       "        vertical-align: top;\n",
       "    }\n",
       "\n",
       "    .dataframe thead th {\n",
       "        text-align: right;\n",
       "    }\n",
       "</style>\n",
       "<table border=\"1\" class=\"dataframe\">\n",
       "  <thead>\n",
       "    <tr style=\"text-align: right;\">\n",
       "      <th></th>\n",
       "      <th>Gene_ID</th>\n",
       "      <th>Transcript_ID</th>\n",
       "      <th>Chromosome</th>\n",
       "      <th>Gene_Region</th>\n",
       "      <th>Start</th>\n",
       "      <th>Stop</th>\n",
       "      <th>Strand</th>\n",
       "      <th>Reference_Seq</th>\n",
       "      <th>HAL</th>\n",
       "      <th>HAR</th>\n",
       "    </tr>\n",
       "  </thead>\n",
       "  <tbody>\n",
       "    <tr>\n",
       "      <th>0</th>\n",
       "      <td>FBgn0003963</td>\n",
       "      <td>FBtr0333013</td>\n",
       "      <td>2L</td>\n",
       "      <td>start_codon</td>\n",
       "      <td>491316</td>\n",
       "      <td>491318</td>\n",
       "      <td>+</td>\n",
       "      <td>CACTGATAAAAAATACCCTAAATTATCGCAACGCAAATGGTAAAGT...</td>\n",
       "      <td>TTCGAGTCCAGCTGCTGGACCGGAGGTATATCTTCAGCTACGTCGG...</td>\n",
       "      <td>TCAGATGGGAAAAGCGATCGTGATTAGTGGAGAGTTACGAGATAGC...</td>\n",
       "    </tr>\n",
       "    <tr>\n",
       "      <th>1</th>\n",
       "      <td>FBgn0020309</td>\n",
       "      <td>FBtr0335474</td>\n",
       "      <td>2L</td>\n",
       "      <td>start_codon</td>\n",
       "      <td>11803437</td>\n",
       "      <td>11803439</td>\n",
       "      <td>-</td>\n",
       "      <td>TTTCTCCCGCTCTGCGCTCTCCTCGATGTTTGCTGAATTATTTGCT...</td>\n",
       "      <td>CAGCACGTGAGCGCTGCCAGCTCGGTGCCATCAGTAGTAACTCCTG...</td>\n",
       "      <td>CGAAAGCAGTCGACAGCAGCAACAACAGCAATATGTAGGCGCTCCT...</td>\n",
       "    </tr>\n",
       "    <tr>\n",
       "      <th>2</th>\n",
       "      <td>FBgn0263102</td>\n",
       "      <td>FBtr0088275</td>\n",
       "      <td>2R</td>\n",
       "      <td>start_codon</td>\n",
       "      <td>10561805</td>\n",
       "      <td>10561807</td>\n",
       "      <td>+</td>\n",
       "      <td>TCGTCAAATGCAAAAGCAACAAATCGAGGCACGTTGCTGCACCGGA...</td>\n",
       "      <td>TTCGTATGGTTTTTCGTATTCGTTTCACGCCGAATCCTAGCTGAAT...</td>\n",
       "      <td>GGACGACCTGGAGTTTTTGAACAAAAGTTTGATTAGCTTCATAACT...</td>\n",
       "    </tr>\n",
       "    <tr>\n",
       "      <th>3</th>\n",
       "      <td>FBgn0016694</td>\n",
       "      <td>FBtr0332081</td>\n",
       "      <td>3L</td>\n",
       "      <td>stop_codon</td>\n",
       "      <td>7816326</td>\n",
       "      <td>7816328</td>\n",
       "      <td>-</td>\n",
       "      <td>GTGTGAATTGTCCTATTGACGAATTCAGTCAAAAACTTATGCACTT...</td>\n",
       "      <td>TGATAAATACAATTTTGTGACTTGGCCTGAGGACACCACAACAATT...</td>\n",
       "      <td>GCGATCCCGCGATGCCCGGCGCCAGAAGGAGAACCAGATTGCGATG...</td>\n",
       "    </tr>\n",
       "    <tr>\n",
       "      <th>4</th>\n",
       "      <td>FBgn0031375</td>\n",
       "      <td>FBtr0330202</td>\n",
       "      <td>2L</td>\n",
       "      <td>stop_codon</td>\n",
       "      <td>1950795</td>\n",
       "      <td>1950797</td>\n",
       "      <td>-</td>\n",
       "      <td>CCTGCTGTACTATGCACCCAATCAGCTGATGTGCGCCGCTGCTGCC...</td>\n",
       "      <td>GCAGAAGGACCCCTGTCCACCTCCACCCACCCCGCAGAACCTCAGC...</td>\n",
       "      <td>ACGGGGTCGACCTCGACGACCAGCTCCACGGTGACCACCACCACCA...</td>\n",
       "    </tr>\n",
       "  </tbody>\n",
       "</table>\n",
       "</div>"
      ],
      "text/plain": [
       "       Gene_ID Transcript_ID Chromosome  Gene_Region     Start      Stop  \\\n",
       "0  FBgn0003963   FBtr0333013         2L  start_codon    491316    491318   \n",
       "1  FBgn0020309   FBtr0335474         2L  start_codon  11803437  11803439   \n",
       "2  FBgn0263102   FBtr0088275         2R  start_codon  10561805  10561807   \n",
       "3  FBgn0016694   FBtr0332081         3L   stop_codon   7816326   7816328   \n",
       "4  FBgn0031375   FBtr0330202         2L   stop_codon   1950795   1950797   \n",
       "\n",
       "  Strand                                      Reference_Seq  \\\n",
       "0      +  CACTGATAAAAAATACCCTAAATTATCGCAACGCAAATGGTAAAGT...   \n",
       "1      -  TTTCTCCCGCTCTGCGCTCTCCTCGATGTTTGCTGAATTATTTGCT...   \n",
       "2      +  TCGTCAAATGCAAAAGCAACAAATCGAGGCACGTTGCTGCACCGGA...   \n",
       "3      -  GTGTGAATTGTCCTATTGACGAATTCAGTCAAAAACTTATGCACTT...   \n",
       "4      -  CCTGCTGTACTATGCACCCAATCAGCTGATGTGCGCCGCTGCTGCC...   \n",
       "\n",
       "                                                 HAL  \\\n",
       "0  TTCGAGTCCAGCTGCTGGACCGGAGGTATATCTTCAGCTACGTCGG...   \n",
       "1  CAGCACGTGAGCGCTGCCAGCTCGGTGCCATCAGTAGTAACTCCTG...   \n",
       "2  TTCGTATGGTTTTTCGTATTCGTTTCACGCCGAATCCTAGCTGAAT...   \n",
       "3  TGATAAATACAATTTTGTGACTTGGCCTGAGGACACCACAACAATT...   \n",
       "4  GCAGAAGGACCCCTGTCCACCTCCACCCACCCCGCAGAACCTCAGC...   \n",
       "\n",
       "                                                 HAR  \n",
       "0  TCAGATGGGAAAAGCGATCGTGATTAGTGGAGAGTTACGAGATAGC...  \n",
       "1  CGAAAGCAGTCGACAGCAGCAACAACAGCAATATGTAGGCGCTCCT...  \n",
       "2  GGACGACCTGGAGTTTTTGAACAAAAGTTTGATTAGCTTCATAACT...  \n",
       "3  GCGATCCCGCGATGCCCGGCGCCAGAAGGAGAACCAGATTGCGATG...  \n",
       "4  ACGGGGTCGACCTCGACGACCAGCTCCACGGTGACCACCACCACCA...  "
      ]
     },
     "metadata": {},
     "output_type": "display_data"
    },
    {
     "name": "stdout",
     "output_type": "stream",
     "text": [
      "225\n",
      "225\n",
      "ATG\n",
      "3\n"
     ]
    }
   ],
   "source": [
    "from sgRNAutils import make_homology_arm_fragments\n",
    "import pandas as pd\n",
    "TFsdf = pd.read_csv(\"inputfiles/mockMaterials/TFsdfTruncated.csv\")\n",
    "TFsdf = make_homology_arm_fragments(TFsdf, refSeqPerChromosome)\n",
    "TFsdf = TFsdf.reset_index()\n",
    "del TFsdf[\"index\"]\n",
    "del TFsdf[\"ID\"]\n",
    "display(TFsdf)\n",
    "print(len(TFsdf.iloc[0][\"HAL\"]))\n",
    "print(len(TFsdf.iloc[0][\"HAR\"]))\n",
    "print(str(refSeqPerChromosome[\"2L\"][491316-1:491318]))\n",
    "print(len(str(refSeqPerChromosome[\"2L\"][491316-1:491318])))"
   ]
  },
  {
   "cell_type": "code",
   "execution_count": 21,
   "metadata": {},
   "outputs": [
    {
     "name": "stdout",
     "output_type": "stream",
     "text": [
      "ATG 491315 491318\n",
      "CAT 11803436 11803439\n",
      "ATG 10561804 10561807\n",
      "TTA 7816325 7816328\n",
      "CTA 1950794 1950797\n"
     ]
    }
   ],
   "source": [
    "# this showes that there are not only conventional start and stop codons e.g. CAT, TCA\n",
    "for index, row in TFsdf.iterrows():\n",
    "    print(refSeqPerChromosome[row[\"Chromosome\"]][row['Start']-1:row['Stop']], row['Start']-1, row['Stop'])"
   ]
  },
  {
   "cell_type": "code",
   "execution_count": 22,
   "metadata": {},
   "outputs": [
    {
     "name": "stdout",
     "output_type": "stream",
     "text": [
      "Selecting guide RNA for TFsdf row 0\n",
      "stringency 0\n",
      "stringency 1\n",
      "stringency 2\n",
      "stringency 3\n",
      "stringency 4\n"
     ]
    },
    {
     "data": {
      "text/html": [
       "<div>\n",
       "<style scoped>\n",
       "    .dataframe tbody tr th:only-of-type {\n",
       "        vertical-align: middle;\n",
       "    }\n",
       "\n",
       "    .dataframe tbody tr th {\n",
       "        vertical-align: top;\n",
       "    }\n",
       "\n",
       "    .dataframe thead th {\n",
       "        text-align: right;\n",
       "    }\n",
       "</style>\n",
       "<table border=\"1\" class=\"dataframe\">\n",
       "  <thead>\n",
       "    <tr style=\"text-align: right;\">\n",
       "      <th></th>\n",
       "      <th>fmin</th>\n",
       "      <th>fmax</th>\n",
       "      <th>#chr</th>\n",
       "      <th>strand</th>\n",
       "      <th>sgRNA_sequence</th>\n",
       "      <th>Gene_ID</th>\n",
       "      <th>Transcript_ID</th>\n",
       "      <th>Chromosome</th>\n",
       "      <th>Gene_Region</th>\n",
       "      <th>Start</th>\n",
       "      <th>Stop</th>\n",
       "      <th>Strand</th>\n",
       "      <th>Reference_Seq</th>\n",
       "      <th>HAL</th>\n",
       "      <th>HAR</th>\n",
       "    </tr>\n",
       "  </thead>\n",
       "  <tbody>\n",
       "    <tr>\n",
       "      <th>0</th>\n",
       "      <td>491298</td>\n",
       "      <td>491320</td>\n",
       "      <td>2L</td>\n",
       "      <td>-</td>\n",
       "      <td>CCAGCAGCTGGACTCGAAATGTC</td>\n",
       "      <td>FBgn0003963</td>\n",
       "      <td>FBtr0333013</td>\n",
       "      <td>2L</td>\n",
       "      <td>start_codon</td>\n",
       "      <td>491316</td>\n",
       "      <td>491318</td>\n",
       "      <td>+</td>\n",
       "      <td>CACTGATAAAAAATACCCTAAATTATCGCAACGCAAATGGTAAAGT...</td>\n",
       "      <td>TTCGAGTCCAGCTGCTGGACCGGAGGTATATCTTCAGCTACGTCGG...</td>\n",
       "      <td>TCAGATGGGAAAAGCGATCGTGATTAGTGGAGAGTTACGAGATAGC...</td>\n",
       "    </tr>\n",
       "  </tbody>\n",
       "</table>\n",
       "</div>"
      ],
      "text/plain": [
       "     fmin    fmax #chr strand           sgRNA_sequence      Gene_ID  \\\n",
       "0  491298  491320   2L      -  CCAGCAGCTGGACTCGAAATGTC  FBgn0003963   \n",
       "\n",
       "  Transcript_ID Chromosome  Gene_Region   Start    Stop Strand  \\\n",
       "0   FBtr0333013         2L  start_codon  491316  491318      +   \n",
       "\n",
       "                                       Reference_Seq  \\\n",
       "0  CACTGATAAAAAATACCCTAAATTATCGCAACGCAAATGGTAAAGT...   \n",
       "\n",
       "                                                 HAL  \\\n",
       "0  TTCGAGTCCAGCTGCTGGACCGGAGGTATATCTTCAGCTACGTCGG...   \n",
       "\n",
       "                                                 HAR  \n",
       "0  TCAGATGGGAAAAGCGATCGTGATTAGTGGAGAGTTACGAGATAGC...  "
      ]
     },
     "metadata": {},
     "output_type": "display_data"
    },
    {
     "name": "stdout",
     "output_type": "stream",
     "text": [
      "sgRNA within window\n",
      "Selecting guide RNA for TFsdf row 1\n",
      "stringency 0\n",
      "stringency 1\n"
     ]
    },
    {
     "data": {
      "text/html": [
       "<div>\n",
       "<style scoped>\n",
       "    .dataframe tbody tr th:only-of-type {\n",
       "        vertical-align: middle;\n",
       "    }\n",
       "\n",
       "    .dataframe tbody tr th {\n",
       "        vertical-align: top;\n",
       "    }\n",
       "\n",
       "    .dataframe thead th {\n",
       "        text-align: right;\n",
       "    }\n",
       "</style>\n",
       "<table border=\"1\" class=\"dataframe\">\n",
       "  <thead>\n",
       "    <tr style=\"text-align: right;\">\n",
       "      <th></th>\n",
       "      <th>fmin</th>\n",
       "      <th>fmax</th>\n",
       "      <th>#chr</th>\n",
       "      <th>strand</th>\n",
       "      <th>sgRNA_sequence</th>\n",
       "      <th>Gene_ID</th>\n",
       "      <th>Transcript_ID</th>\n",
       "      <th>Chromosome</th>\n",
       "      <th>Gene_Region</th>\n",
       "      <th>Start</th>\n",
       "      <th>Stop</th>\n",
       "      <th>Strand</th>\n",
       "      <th>Reference_Seq</th>\n",
       "      <th>HAL</th>\n",
       "      <th>HAR</th>\n",
       "    </tr>\n",
       "  </thead>\n",
       "  <tbody>\n",
       "    <tr>\n",
       "      <th>0</th>\n",
       "      <td>11803435</td>\n",
       "      <td>11803457</td>\n",
       "      <td>2L</td>\n",
       "      <td>+</td>\n",
       "      <td>TGCATTCTTGTGTCCAGATCCGG</td>\n",
       "      <td>FBgn0020309</td>\n",
       "      <td>FBtr0335474</td>\n",
       "      <td>2L</td>\n",
       "      <td>start_codon</td>\n",
       "      <td>11803437</td>\n",
       "      <td>11803439</td>\n",
       "      <td>-</td>\n",
       "      <td>TTTCTCCCGCTCTGCGCTCTCCTCGATGTTTGCTGAATTATTTGCT...</td>\n",
       "      <td>CAGCACGTGAGCGCTGCCAGCTCGGTGCCATCAGTAGTAACTCCTG...</td>\n",
       "      <td>CGAAAGCAGTCGACAGCAGCAACAACAGCAATATGTAGGCGCTCCT...</td>\n",
       "    </tr>\n",
       "    <tr>\n",
       "      <th>1</th>\n",
       "      <td>11803436</td>\n",
       "      <td>11803458</td>\n",
       "      <td>2L</td>\n",
       "      <td>+</td>\n",
       "      <td>GCATTCTTGTGTCCAGATCCGGG</td>\n",
       "      <td>FBgn0020309</td>\n",
       "      <td>FBtr0335474</td>\n",
       "      <td>2L</td>\n",
       "      <td>start_codon</td>\n",
       "      <td>11803437</td>\n",
       "      <td>11803439</td>\n",
       "      <td>-</td>\n",
       "      <td>TTTCTCCCGCTCTGCGCTCTCCTCGATGTTTGCTGAATTATTTGCT...</td>\n",
       "      <td>CAGCACGTGAGCGCTGCCAGCTCGGTGCCATCAGTAGTAACTCCTG...</td>\n",
       "      <td>CGAAAGCAGTCGACAGCAGCAACAACAGCAATATGTAGGCGCTCCT...</td>\n",
       "    </tr>\n",
       "  </tbody>\n",
       "</table>\n",
       "</div>"
      ],
      "text/plain": [
       "       fmin      fmax #chr strand           sgRNA_sequence      Gene_ID  \\\n",
       "0  11803435  11803457   2L      +  TGCATTCTTGTGTCCAGATCCGG  FBgn0020309   \n",
       "1  11803436  11803458   2L      +  GCATTCTTGTGTCCAGATCCGGG  FBgn0020309   \n",
       "\n",
       "  Transcript_ID Chromosome  Gene_Region     Start      Stop Strand  \\\n",
       "0   FBtr0335474         2L  start_codon  11803437  11803439      -   \n",
       "1   FBtr0335474         2L  start_codon  11803437  11803439      -   \n",
       "\n",
       "                                       Reference_Seq  \\\n",
       "0  TTTCTCCCGCTCTGCGCTCTCCTCGATGTTTGCTGAATTATTTGCT...   \n",
       "1  TTTCTCCCGCTCTGCGCTCTCCTCGATGTTTGCTGAATTATTTGCT...   \n",
       "\n",
       "                                                 HAL  \\\n",
       "0  CAGCACGTGAGCGCTGCCAGCTCGGTGCCATCAGTAGTAACTCCTG...   \n",
       "1  CAGCACGTGAGCGCTGCCAGCTCGGTGCCATCAGTAGTAACTCCTG...   \n",
       "\n",
       "                                                 HAR  \n",
       "0  CGAAAGCAGTCGACAGCAGCAACAACAGCAATATGTAGGCGCTCCT...  \n",
       "1  CGAAAGCAGTCGACAGCAGCAACAACAGCAATATGTAGGCGCTCCT...  "
      ]
     },
     "metadata": {},
     "output_type": "display_data"
    },
    {
     "name": "stdout",
     "output_type": "stream",
     "text": [
      "sgRNA within window\n",
      "sgRNA within window\n"
     ]
    }
   ],
   "source": [
    "from sgRNAutils import gRNA_stringencyIterator\n",
    "#For row 5 of transcription factor start/stop site dataframe, select a guideRNA\n",
    "#Row 1 is start gene(-) sgRNA(+), takes 1 min to run\n",
    "#Row 0 is start gene(+) sgRNA(-), takes 5.3 min to run\n",
    "\n",
    "print(f\"Selecting guide RNA for TFsdf row {0}\")\n",
    "window = 21\n",
    "filtered_sgRNA_0 = gRNA_stringencyIterator(TFsdf.iloc[0], window, refSeqPerChromosome)\n",
    "display(filtered_sgRNA_0)\n",
    "# test whether sgRNA within window\n",
    "for i in range(len(filtered_sgRNA_0)):\n",
    "    if filtered_sgRNA_0['fmin'].iloc[i] >= filtered_sgRNA_0[\"Start\"].iloc[i] - window & filtered_sgRNA_0['fmax'].iloc[i] <= filtered_sgRNA_0[\"Stop\"].iloc[i] + window:\n",
    "        print(\"sgRNA within window\")\n",
    "\n",
    "print(f\"Selecting guide RNA for TFsdf row {1}\")\n",
    "filtered_sgRNA_1 = gRNA_stringencyIterator(TFsdf.iloc[1], window, refSeqPerChromosome)\n",
    "display(filtered_sgRNA_1)\n",
    "# test whether sgRNA within window\n",
    "for i in range(len(filtered_sgRNA_1)):\n",
    "    if filtered_sgRNA_1['fmin'].iloc[i] >= filtered_sgRNA_1[\"Start\"].iloc[i] - window & filtered_sgRNA_1['fmax'].iloc[i] <= filtered_sgRNA_1[\"Stop\"].iloc[i] + window:\n",
    "        print(\"sgRNA within window\")"
   ]
  },
  {
   "cell_type": "code",
   "execution_count": 6,
   "metadata": {},
   "outputs": [
    {
     "name": "stdout",
     "output_type": "stream",
     "text": [
      "     fmin    fmax #chr strand           sgRNA_sequence      Gene_ID  \\\n",
      "0  491298  491320   2L      -  CCAGCAGCTGGACTCGAAATGTC  FBgn0003963   \n",
      "\n",
      "  Transcript_ID Chromosome  Gene_Region   Start    Stop Strand  \\\n",
      "0   FBtr0333013         2L  start_codon  491316  491318      +   \n",
      "\n",
      "                                       Reference_Seq  \\\n",
      "0  CACTGATAAAAAATACCCTAAATTATCGCAACGCAAATGGTAAAGT...   \n",
      "\n",
      "                                                 HAL  \\\n",
      "0  TTCGAGTCCAGCTGCTGGACCGGAGGTATATCTTCAGCTACGTCGG...   \n",
      "\n",
      "                                                 HAR  positionScore CDS_side  \\\n",
      "0  TCAGATGGGAAAAGCGATCGTGATTAGTGGAGAGTTACGAGATAGC...              2      HAR   \n",
      "\n",
      "  non_CDS_side PAM_in_start/stop max_15_bp_3’_overhang PAM_in_CDS  \\\n",
      "0          HAL             False                 False      False   \n",
      "\n",
      "  PAM_outside_CDS SRS_in_CDS  \\\n",
      "0            True      False   \n",
      "\n",
      "                                        CDS_boundary  \\\n",
      "0  [1, 2, 3, 4, 5, 6, 7, 8, 9, 10, 11, 12, 13, 14...   \n",
      "\n",
      "                                    non_CDS_boundary  \\\n",
      "0  [-24, -23, -22, -21, -20, -19, -18, -17, -16, ...   \n",
      "\n",
      "                     SRS_boundary mutable_PAM cut_site  \n",
      "0  [-19, -18, -17, -16, -15, -14]  [-22, -21]      -19  \n",
      "       fmin      fmax #chr strand           sgRNA_sequence      Gene_ID  \\\n",
      "0  11803435  11803457   2L      +  TGCATTCTTGTGTCCAGATCCGG  FBgn0020309   \n",
      "1  11803436  11803458   2L      +  GCATTCTTGTGTCCAGATCCGGG  FBgn0020309   \n",
      "\n",
      "  Transcript_ID Chromosome  Gene_Region     Start      Stop Strand  \\\n",
      "0   FBtr0335474         2L  start_codon  11803437  11803439      -   \n",
      "1   FBtr0335474         2L  start_codon  11803437  11803439      -   \n",
      "\n",
      "                                       Reference_Seq  \\\n",
      "0  TTTCTCCCGCTCTGCGCTCTCCTCGATGTTTGCTGAATTATTTGCT...   \n",
      "1  TTTCTCCCGCTCTGCGCTCTCCTCGATGTTTGCTGAATTATTTGCT...   \n",
      "\n",
      "                                                 HAL  \\\n",
      "0  CAGCACGTGAGCGCTGCCAGCTCGGTGCCATCAGTAGTAACTCCTG...   \n",
      "1  CAGCACGTGAGCGCTGCCAGCTCGGTGCCATCAGTAGTAACTCCTG...   \n",
      "\n",
      "                                                 HAR  positionScore CDS_side  \\\n",
      "0  CGAAAGCAGTCGACAGCAGCAACAACAGCAATATGTAGGCGCTCCT...             18      HAL   \n",
      "1  CGAAAGCAGTCGACAGCAGCAACAACAGCAATATGTAGGCGCTCCT...             19      HAL   \n",
      "\n",
      "  non_CDS_side PAM_in_start/stop max_15_bp_3’_overhang PAM_in_CDS  \\\n",
      "0          HAR             False                 False      False   \n",
      "1          HAR             False                 False      False   \n",
      "\n",
      "  PAM_outside_CDS SRS_in_CDS  \\\n",
      "0            True      False   \n",
      "1            True      False   \n",
      "\n",
      "                                        CDS_boundary  \\\n",
      "0  [-24, -23, -22, -21, -20, -19, -18, -17, -16, ...   \n",
      "1  [-24, -23, -22, -21, -20, -19, -18, -17, -16, ...   \n",
      "\n",
      "                                    non_CDS_boundary  \\\n",
      "0  [1, 2, 3, 4, 5, 6, 7, 8, 9, 10, 11, 12, 13, 14...   \n",
      "1  [1, 2, 3, 4, 5, 6, 7, 8, 9, 10, 11, 12, 13, 14...   \n",
      "\n",
      "               SRS_boundary mutable_PAM cut_site  \n",
      "0  [-8, -7, -6, -5, -4, -3]     [-1, 0]      -23  \n",
      "1  [-8, -7, -6, -5, -4, -3]     [-1, 0]      -24  \n"
     ]
    }
   ],
   "source": [
    "from sgRNAutils import sgRNApositionCheck\n",
    "pd.set_option('display.max_rows', None)\n",
    "pd.set_option('display.max_columns', None)\n",
    "minDistance = -24\n",
    "maxDistance = 21\n",
    "checked_0 = sgRNApositionCheck(filtered_sgRNA_0, minDistance, maxDistance)\n",
    "checked_1 = sgRNApositionCheck(filtered_sgRNA_1, minDistance, maxDistance)\n",
    "print(checked_0)\n",
    "print(checked_1)"
   ]
  },
  {
   "cell_type": "code",
   "execution_count": 7,
   "metadata": {},
   "outputs": [
    {
     "data": {
      "text/plain": [
       "'TGCATTCTTGTGTCCAGATCCGG'"
      ]
     },
     "metadata": {},
     "output_type": "display_data"
    }
   ],
   "source": [
    "from sgRNAutils import checkCDSCutandOrder\n",
    "sgRNA = checkCDSCutandOrder(checked_1)\n",
    "display(sgRNA)"
   ]
  },
  {
   "cell_type": "code",
   "execution_count": 8,
   "metadata": {},
   "outputs": [
    {
     "data": {
      "text/plain": [
       "'TCAGATGGGAAAAGCGATCGTGATTAGTGGAGAGTTACGAGATAGCTTTGTAATGACAAAGTGTAATTTACAAAAGTGCATTTGTTCGTTGAGGCAAAATAATGGTTGCAGATAACTGCACAGGTGCTATAAAAAGAAGGTCGTCGACTAAACCCCGACTTGATAAAACTAAACTTGTAGCTCACCTTTATTCAACGGCTTCGGGTTGGACTGTTTGCGTCGTGA'"
      ]
     },
     "metadata": {},
     "output_type": "display_data"
    },
    {
     "name": "stdout",
     "output_type": "stream",
     "text": [
      "225\n"
     ]
    },
    {
     "data": {
      "text/plain": [
       "'CAGCACGTGAGCGCTGCCAGCTCGGTGCCATCAGTAGTAACTCCTGTTGTGACCACTGGTGGGACAACGATCACATTGGGCGGCCCACCACCGCTCCCTAAATCCGAGCACAAAGAGGATGGCAAGCCGCCGCACGGCATCGAAATGTACAAGGTGAACATTGAGGACATTTCGCAGCTCTTCACCTACCACGAGGTCTTTGGCAAAATCCACGGCGATGTGGTC'"
      ]
     },
     "metadata": {},
     "output_type": "display_data"
    },
    {
     "name": "stdout",
     "output_type": "stream",
     "text": [
      "225\n"
     ]
    }
   ],
   "source": [
    "# for testing print the HA in CDS\n",
    "HA_0 = checked_0.iloc[0][checked_0.iloc[0][\"CDS_side\"]]\n",
    "display(HA_0)\n",
    "print(len(HA_0))\n",
    "HA_1 = checked_1.iloc[0][checked_1.iloc[0][\"CDS_side\"]]\n",
    "display(HA_1)\n",
    "print(len(HA_1))    "
   ]
  },
  {
   "cell_type": "code",
   "execution_count": 9,
   "metadata": {},
   "outputs": [
    {
     "name": "stdout",
     "output_type": "stream",
     "text": [
      "['TCA', 'GAT', 'GGG', 'AAA', 'AGC', 'GAT', 'CGT']\n",
      "['TTT', 'GAT', 'GTG', 'GCC', 'ATC', 'CAC', 'GAC']\n"
     ]
    },
    {
     "name": "stderr",
     "output_type": "stream",
     "text": [
      "c:\\Users\\magd5549\\OneDrive - Nexus365\\Bioinformatics\\AutoTagsCRISPR\\sgRNAutils.py:496: SettingWithCopyWarning: \n",
      "A value is trying to be set on a copy of a slice from a DataFrame\n",
      "\n",
      "See the caveats in the documentation: https://pandas.pydata.org/pandas-docs/stable/user_guide/indexing.html#returning-a-view-versus-a-copy\n",
      "  winnerdf[\"CDS_boundary_HA\"] = np.array(winnerdf[\"CDS_boundary\"]) - 1 #HA is 1bp to the right of stop\n",
      "c:\\Users\\magd5549\\OneDrive - Nexus365\\Bioinformatics\\AutoTagsCRISPR\\sgRNAutils.py:496: SettingWithCopyWarning: \n",
      "A value is trying to be set on a copy of a slice from a DataFrame\n",
      "\n",
      "See the caveats in the documentation: https://pandas.pydata.org/pandas-docs/stable/user_guide/indexing.html#returning-a-view-versus-a-copy\n",
      "  winnerdf[\"CDS_boundary_HA\"] = np.array(winnerdf[\"CDS_boundary\"]) - 1 #HA is 1bp to the right of stop\n",
      "c:\\Users\\magd5549\\OneDrive - Nexus365\\Bioinformatics\\AutoTagsCRISPR\\sgRNAutils.py:500: SettingWithCopyWarning: \n",
      "A value is trying to be set on a copy of a slice from a DataFrame\n",
      "\n",
      "See the caveats in the documentation: https://pandas.pydata.org/pandas-docs/stable/user_guide/indexing.html#returning-a-view-versus-a-copy\n",
      "  winnerdf[\"CDS_boundary_HA\"] = np.array(winnerdf[\"CDS_boundary\"]) + 2 #HA is 3pb to the left of stop but because we index backwards we calculate - 1\n",
      "c:\\Users\\magd5549\\OneDrive - Nexus365\\Bioinformatics\\AutoTagsCRISPR\\sgRNAutils.py:500: SettingWithCopyWarning: \n",
      "A value is trying to be set on a copy of a slice from a DataFrame\n",
      "\n",
      "See the caveats in the documentation: https://pandas.pydata.org/pandas-docs/stable/user_guide/indexing.html#returning-a-view-versus-a-copy\n",
      "  winnerdf[\"CDS_boundary_HA\"] = np.array(winnerdf[\"CDS_boundary\"]) + 2 #HA is 3pb to the left of stop but because we index backwards we calculate - 1\n"
     ]
    }
   ],
   "source": [
    "from sgRNAutils import codonFragmenter\n",
    "pd.set_option('display.max_column', None)\n",
    "CDS_0, df_CDS_adjusted_0 = codonFragmenter(checked_0.iloc[0])\n",
    "print(CDS_0)\n",
    "CDS_1, df_CDS_adjusted_1 = codonFragmenter(checked_1.iloc[0])\n",
    "print(CDS_1)"
   ]
  },
  {
   "cell_type": "code",
   "execution_count": 10,
   "metadata": {},
   "outputs": [
    {
     "name": "stderr",
     "output_type": "stream",
     "text": [
      "c:\\Users\\magd5549\\OneDrive - Nexus365\\Bioinformatics\\AutoTagsCRISPR\\sgRNAutils.py:586: SettingWithCopyWarning: \n",
      "A value is trying to be set on a copy of a slice from a DataFrame\n",
      "\n",
      "See the caveats in the documentation: https://pandas.pydata.org/pandas-docs/stable/user_guide/indexing.html#returning-a-view-versus-a-copy\n",
      "  winnerdf.at[\"HAR\"] = CDS + winnerdf[\"HAR\"][winnerdf[\"CDS_boundary_HA\"][-1]+1:]\n"
     ]
    },
    {
     "data": {
      "text/plain": [
       "'TCAGATGGGAAAAGCGATCGTGATTAGTGGAGAGTTACGAGATAGCTTTGTAATGACAAAGTGTAATTTACAAAAGTGCATTTGTTCGTTGAGGCAAAATAATGGTTGCAGATAACTGCACAGGTGCTATAAAAAGAAGGTCGTCGACTAAACCCCGACTTGATAAAACTAAACTTGTAGCTCACCTTTATTCAACGGCTTCGGGTTGGACTGTTTGCGTCGTGA'"
      ]
     },
     "metadata": {},
     "output_type": "display_data"
    },
    {
     "data": {
      "text/plain": [
       "'TCAGATGGGAAAAGCGATCGTGATTAGTGGAGAGTTACGAGATAGCTTTGTAATGACAAAGTGTAATTTACAAAAGTGCATTTGTTCGTTGAGGCAAAATAATGGTTGCAGATAACTGCACAGGTGCTATAAAAAGAAGGTCGTCGACTAAACCCCGACTTGATAAAACTAAACTTGTAGCTCACCTTTATTCAACGGCTTCGGGTTGGACTGTTTGCGTCGTGA'"
      ]
     },
     "metadata": {},
     "output_type": "display_data"
    },
    {
     "name": "stdout",
     "output_type": "stream",
     "text": [
      "225\n",
      "all working\n"
     ]
    },
    {
     "name": "stderr",
     "output_type": "stream",
     "text": [
      "c:\\Users\\magd5549\\OneDrive - Nexus365\\Bioinformatics\\AutoTagsCRISPR\\sgRNAutils.py:588: SettingWithCopyWarning: \n",
      "A value is trying to be set on a copy of a slice from a DataFrame\n",
      "\n",
      "See the caveats in the documentation: https://pandas.pydata.org/pandas-docs/stable/user_guide/indexing.html#returning-a-view-versus-a-copy\n",
      "  winnerdf.at[\"HAL\"] =  winnerdf[\"HAL\"][:winnerdf[\"CDS_boundary_HA\"][0]+1] + CDS\n"
     ]
    },
    {
     "data": {
      "text/plain": [
       "'CAGCACGTGAGCGCTGCCAGCTCGGTGCCATCAGTAGTAACTCCTGTTGTGACCACTGGTGGGACAACGATCACATTGGGCGGCCCACCACCGCTCCCTAAATCCGAGCACAAAGAGGATGGCAAGCCGCCGCACGGCATCGAAATGTACAAGGTGAACATTGAGGACATTTCGCAGCTCTTCACCTACCACGAGGTCTTTGGCAAAATCCACGGCGATGTGGTC'"
      ]
     },
     "metadata": {},
     "output_type": "display_data"
    },
    {
     "data": {
      "text/plain": [
       "'CAGCACGTGAGCGCTGCCAGCTCGGTGCCATCAGTAGTAACTCCTGTTGTGACCACTGGTGGGACAACGATCACATTGGGCGGCCCACCACCGCTCCCTAAATCCGAGCACAAAGAGGATGGCAAGCCGCCGCACGGCATCGAAATGTACAAGGTGAACATTGAGGACATTTCGCAGCTCTTCACCTACCACGAGGTCTTTGGCAAAATCCACGGCGATGTGGTC'"
      ]
     },
     "metadata": {},
     "output_type": "display_data"
    },
    {
     "name": "stdout",
     "output_type": "stream",
     "text": [
      "225\n",
      "all working\n"
     ]
    }
   ],
   "source": [
    "from sgRNAutils import codonReverseFragmenter\n",
    "df_HA_0_after = codonReverseFragmenter(CDS_0, df_CDS_adjusted_0)\n",
    "HA_0_after = df_HA_0_after[df_HA_0_after[\"CDS_side\"]]\n",
    "display(HA_0_after)\n",
    "display(HA_0)\n",
    "print(len(HA_0_after))\n",
    "if HA_0_after == HA_0:\n",
    "    print(\"all working\")\n",
    "else: print(\"not working\")\n",
    "\n",
    "df_HA_1_after = codonReverseFragmenter(CDS_1, df_CDS_adjusted_1)\n",
    "HA_1_after = df_HA_1_after[df_HA_1_after[\"CDS_side\"]]\n",
    "display(HA_1_after)\n",
    "display(HA_1)\n",
    "print(len(HA_1_after))\n",
    "if HA_1_after == HA_1:\n",
    "    print(\"all working\")\n",
    "else: print(\"not working\")"
   ]
  },
  {
   "cell_type": "code",
   "execution_count": 11,
   "metadata": {},
   "outputs": [
    {
     "name": "stdout",
     "output_type": "stream",
     "text": [
      "plus\n",
      "['TCA', 'GAT', 'GGG', 'AAA', 'AGC', 'GAT', 'CGT']\n",
      "positionScore: 2\n",
      "CDS start: 1\n",
      "['TCA', 'GAC', 'GGG', 'AAA', 'AGC', 'GAT', 'CGT']\n"
     ]
    }
   ],
   "source": [
    "from sgRNAutils import mutator_Marina\n",
    "# formula to calculate base position to be mutated = base position relative to fmax + positionScore - CDS start\n",
    "# to test try different base positions relative to fmax e.g. [-1, 0, 1, 2, 3, 4, 5, 6, 7, 8]\n",
    "base_position_relative_to_fmax = 4\n",
    "if df_CDS_adjusted_0[\"Strand\"] == '+':\n",
    "    codonCoordinates = pd.read_excel(\"inputfiles/fmaxStopScoreML.xlsx\", sheet_name=\"CodonCoordinatePlus\", index_col= 0)\n",
    "    print(\"plus\")\n",
    "elif df_CDS_adjusted_0[\"Strand\"] == '-':\n",
    "    codonCoordinates = pd.read_excel(\"inputfiles/fmaxStopScoreML.xlsx\", sheet_name=\"CodonCoordinateMinus\", index_col= 0)\n",
    "    print(\"minus\")\n",
    "print(CDS_0)\n",
    "print(\"positionScore:\", df_CDS_adjusted_0[\"positionScore\"])\n",
    "print(\"CDS start:\", df_CDS_adjusted_0[\"CDS_boundary\"][0])\n",
    "fragmentedDCS = mutator_Marina(base_position_relative_to_fmax,CDS_0,df_CDS_adjusted_0,codonCoordinates)\n",
    "print(fragmentedDCS)"
   ]
  },
  {
   "cell_type": "code",
   "execution_count": 12,
   "metadata": {},
   "outputs": [],
   "source": [
    "def find_best_mutation(winnerdf):\n",
    "    \"\"\"\n",
    "        In the case where a fragment needs to be mutated, will mutate in CDS (preferably PAM, if not then in the sgRNA). \n",
    "        If not possible, will mutate PAM outside of CDS to NTG/CTN.\n",
    "        \n",
    "        params:\n",
    "            winnerdf: the pandas series of the winning sgRNA in format:\n",
    "                fmin                                                            396165\n",
    "                fmax                                                            396187\n",
    "                #chr                                                                 X\n",
    "                strand                                                               -\n",
    "                sgRNA_sequence                                 CCGAGTGTGTTAATGAAAAATAA\n",
    "                Gene_ID                                                    FBgn0004170\n",
    "                Transcript_ID                                              FBtr0070073\n",
    "                Chromosome                                                           X\n",
    "                Gene_Region                                                start_codon\n",
    "                Start                                                           396177\n",
    "                Stop                                                            396179\n",
    "                Strand                                                               +\n",
    "                Reference_Seq        ACCTGCGATAATTTGACATTCTTAGAAACTACCTGAAGAAATAGGA...\n",
    "                upstreamHA           TCTGGTCAGTGCCATACCCCTTGGTGTATACTTGCGAGTCTTAATT...\n",
    "                downstreamHA         AACACACTCGGAGCTTTCTTTAACTTTCCGGATAACGATCAACAGA...\n",
    "                positionScore                                                        8\n",
    "                PAM_in_start/stop                                                False\n",
    "                <15_bp3’_overhang                                                 True\n",
    "                PAM_in_CDS                                                       False\n",
    "                PAM_outside_CDS                                                   True\n",
    "                CDS_boundary                                                       >22\n",
    "                lastG                                                              8.0\n",
    "                cutSite                                                           13.0\n",
    "                mutated                                                          False\n",
    "\n",
    "        \"\"\"\n",
    "    import pandas as pd\n",
    "\n",
    "    if winnerdf[\"Strand\"] == '+':\n",
    "        codonCoordinates = pd.read_excel(\"inputfiles/fmaxStopScoreML.xlsx\", sheet_name=\"CodonCoordinatePlus\", index_col= 0)\n",
    "    elif winnerdf[\"Strand\"] == '-':\n",
    "        codonCoordinates = pd.read_excel(\"inputfiles/fmaxStopScoreML.xlsx\", sheet_name=\"CodonCoordinateMinus\", index_col= 0)\n",
    "\n",
    "    # Condition A: PAM in CDS\n",
    "    if winnerdf[\"PAM_in_CDS\"] == True and winnerdf[\"mutated?\"] == False:\n",
    "        fragmentedCDS, winnerdf = codonFragmenter(winnerdf, winnerdf[\"CDS_side\"], winnerdf[\"CDS_boundary\"])\n",
    "\n",
    "        for basePosition in winnerdf[\"mutable_PAM\"]:\n",
    "            \n",
    "            try: \n",
    "                fragmentedCDS = mutator_Marina(basePosition, fragmentedCDS, winnerdf, codonCoordinates, PAM=True)\n",
    "                winnerdf[\"mutated?\"] = True\n",
    "                break\n",
    "\n",
    "            except ValueError: continue\n",
    "\n",
    "        winnerdf = codonReverseFragmenter(fragmentedCDS, winnerdf, winnerdf[\"CDS_side\"], winnerdf[\"CDS_boundary\"])\n",
    "\n",
    "    # Condition B: sgRNA in CDS\n",
    "    if winnerdf[\"SRS_in_CDS\"] == True and winnerdf[\"mutated?\"] == False:\n",
    "        number_of_mutations = 0\n",
    "        position = 0\n",
    "        fragmentedCDS, winnerdf = codonFragmenter(winnerdf, winnerdf[\"CDS_side\"], winnerdf[\"CDS_boundary\"])\n",
    "\n",
    "        while number_of_mutations < 2 and position in range(0, len(winnerdf[\"SRS_boundary\"])):\n",
    "                \n",
    "            try: \n",
    "                fragmentedCDS = mutator_Marina(basePosition, fragmentedCDS, winnerdf, codonCoordinates)\n",
    "                winnerdf[\"mutated?\"] = True\n",
    "                position += 1\n",
    "                number_of_mutations += 1\n",
    "\n",
    "            except ValueError: continue\n",
    "        \n",
    "        winnerdf = codonReverseFragmenter(fragmentedCDS, winnerdf, winnerdf[\"CDS_side\"], winnerdf[\"CDS_boundary\"])\n",
    "    \n",
    "    # Condition C: PAM outside of CDS\n",
    "    if winnerdf[\"mutated?\"] == False:\n",
    "        fragmentedRegion, winnerdf = codonFragmenter(winnerdf, winnerdf[\"non_CDS_side\"], winnerdf[\"non_CDS_boundary\"])\n",
    "        pos_relative_to_region = winnerdf[\"mutable_PAM\"][0] + winnerdf[\"positionScore\"] - winnerdf[\"non_CDS_boundary\"][0] # formula explained in MutationLogicML.pptx\n",
    "        codonNumber = codonCoordinates.at[pos_relative_to_region, 'codon'] #this is the codon number (as an index in mutableCodons)\n",
    "        codon = fragmentedRegion[codonNumber] #This is the codon we want to mutate\n",
    "        base = codonCoordinates.at[pos_relative_to_region, 'base'] #This is the base within that codon (1-3)\n",
    "        base_to_mutate_to = [i for i in ['A', 'C', 'G', 'T'] if i != codon[base-1]][0]\n",
    "        newCodon = codon[:base-1] + base_to_mutate_to + codon[base:] #add a 'T' where the old base was in this codon\n",
    "        fragmentedRegion[codonNumber] = newCodon\n",
    "        winnerdf = codonReverseFragmenter(fragmentedRegion, winnerdf, winnerdf[\"non_CDS_side\"], winnerdf[\"non_CDS_boundary\"])\n",
    "        winnerdf[\"mutated?\"] = True\n",
    "\n",
    "    return winnerdf"
   ]
  },
  {
   "cell_type": "code",
   "execution_count": 13,
   "metadata": {},
   "outputs": [
    {
     "name": "stdout",
     "output_type": "stream",
     "text": [
      "HAL 4\n"
     ]
    },
    {
     "name": "stderr",
     "output_type": "stream",
     "text": [
      "C:\\Users\\magd5549\\AppData\\Local\\Temp\\ipykernel_9320\\141412795.py:80: SettingWithCopyWarning: \n",
      "A value is trying to be set on a copy of a slice from a DataFrame\n",
      "\n",
      "See the caveats in the documentation: https://pandas.pydata.org/pandas-docs/stable/user_guide/indexing.html#returning-a-view-versus-a-copy\n",
      "  winnerdf[f\"{PAM_side}\"] = newHA\n",
      "C:\\Users\\magd5549\\AppData\\Local\\Temp\\ipykernel_9320\\141412795.py:81: SettingWithCopyWarning: \n",
      "A value is trying to be set on a copy of a slice from a DataFrame\n",
      "\n",
      "See the caveats in the documentation: https://pandas.pydata.org/pandas-docs/stable/user_guide/indexing.html#returning-a-view-versus-a-copy\n",
      "  winnerdf[\"mutated?\"] = True\n"
     ]
    },
    {
     "data": {
      "text/plain": [
       "fmin                                                                491298\n",
       "fmax                                                                491320\n",
       "#chr                                                                    2L\n",
       "strand                                                                   -\n",
       "sgRNA_sequence                                     CCAGCAGCTGGACTCGAAATGTC\n",
       "Gene_ID                                                        FBgn0003963\n",
       "Transcript_ID                                                  FBtr0333013\n",
       "Chromosome                                                              2L\n",
       "Gene_Region                                                    start_codon\n",
       "Start                                                               491316\n",
       "Stop                                                                491318\n",
       "Strand                                                                   +\n",
       "Reference_Seq            CACTGATAAAAAATACCCTAAATTATCGCAACGCAAATGGTAAAGT...\n",
       "HAL                      TTCTAGTCCAGCTGCTGGACCGGAGGTATATCTTCAGCTACGTCGG...\n",
       "HAR                      TCAGATGGGAAAAGCGATCGTGATTAGTGGAGAGTTACGAGATAGC...\n",
       "positionScore                                                            2\n",
       "CDS_side                                                               HAR\n",
       "non_CDS_side                                                           HAL\n",
       "PAM_in_start/stop                                                    False\n",
       "max_15_bp_3’_overhang                                                False\n",
       "PAM_in_CDS                                                           False\n",
       "PAM_outside_CDS                                                       True\n",
       "SRS_in_CDS                                                           False\n",
       "CDS_boundary             [1, 2, 3, 4, 5, 6, 7, 8, 9, 10, 11, 12, 13, 14...\n",
       "non_CDS_boundary         [-24, -23, -22, -21, -20, -19, -18, -17, -16, ...\n",
       "SRS_boundary                                [-19, -18, -17, -16, -15, -14]\n",
       "mutable_PAM                                                     [-22, -21]\n",
       "cut_site                                                               -19\n",
       "mutated?                                                              True\n",
       "Name: 0, dtype: object"
      ]
     },
     "metadata": {},
     "output_type": "display_data"
    }
   ],
   "source": [
    "checked_0[\"mutated?\"] = False\n",
    "mutated_0_df = find_best_mutation(checked_0.iloc[0])\n",
    "display(mutated_0_df)"
   ]
  },
  {
   "cell_type": "code",
   "execution_count": 14,
   "metadata": {},
   "outputs": [
    {
     "name": "stdout",
     "output_type": "stream",
     "text": [
      "TTCTAGTCCAGCTGCTGGACCGGAGGTATATCTTCAGCTACGTCGGCATCAAGTCTGCGGAAGATCCAGATTCGCGTTCCTTTTCGCGGACATTTACCGGCGGATGCTATATCGCACTCACACACAGGCACTCACTCTCACACACACGGCGAGTATCAATTATGGGCAATCAATGCGATTACTTGTATTATTTGTATTATTGGCGGCGATTAACAAGCCTTAATG\n",
      "TTCGAGTCCAGCTGCTGGACCGGAGGTATATCTTCAGCTACGTCGGCATCAAGTCTGCGGAAGATCCAGATTCGCGTTCCTTTTCGCGGACATTTACCGGCGGATGCTATATCGCACTCACACACAGGCACTCACTCTCACACACACGGCGAGTATCAATTATGGGCAATCAATGCGATTACTTGTATTATTTGTATTATTGGCGGCGATTAACAAGCCTTAATG\n"
     ]
    }
   ],
   "source": [
    "print(mutated_0_df[\"HAL\"])\n",
    "print(checked_0.iloc[0][\"HAL\"])"
   ]
  },
  {
   "cell_type": "code",
   "execution_count": 15,
   "metadata": {},
   "outputs": [
    {
     "name": "stdout",
     "output_type": "stream",
     "text": [
      "CAT\n",
      "TGCATTCTTGTGTCCAGATCCGG\n",
      "CAT\n",
      "GCATTCTTGTGTCCAGATCCGGG\n"
     ]
    }
   ],
   "source": [
    "# check whether the start/stop codon and sgRNA is correct\n",
    "for ind, sgRNA in sgRNAdf.iterrows():\n",
    "    print(refSeqPerChromosome[sgRNA[\"Chromosome\"]][sgRNA[\"Start\"]-1:sgRNA[\"Stop\"]])\n",
    "    print(refSeqPerChromosome[sgRNA[\"Chromosome\"]][sgRNA[\"fmin\"]-1:sgRNA[\"fmax\"]])"
   ]
  }
 ],
 "metadata": {
  "kernelspec": {
   "display_name": "base",
   "language": "python",
   "name": "python3"
  },
  "language_info": {
   "codemirror_mode": {
    "name": "ipython",
    "version": 3
   },
   "file_extension": ".py",
   "mimetype": "text/x-python",
   "name": "python",
   "nbconvert_exporter": "python",
   "pygments_lexer": "ipython3",
   "version": "3.12.0"
  },
  "orig_nbformat": 4
 },
 "nbformat": 4,
 "nbformat_minor": 2
}
