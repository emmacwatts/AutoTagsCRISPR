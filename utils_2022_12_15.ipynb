{
  "cells": [
    {
      "cell_type": "markdown",
      "metadata": {
        "id": "view-in-github",
        "colab_type": "text"
      },
      "source": [
        "<a href=\"https://colab.research.google.com/github/emmacwatts/AutoTagsCRISPR/blob/main/utils_2022_12_15.ipynb\" target=\"_parent\"><img src=\"https://colab.research.google.com/assets/colab-badge.svg\" alt=\"Open In Colab\"/></a>"
      ]
    },
    {
      "cell_type": "code",
      "execution_count": null,
      "metadata": {
        "id": "LG9i7xyk2Sey"
      },
      "outputs": [],
      "source": [
        "def check_start_stop_NGG(df):\n",
        "    '''\n",
        "    df: dictionary\n",
        "            df={\n",
        "            \"start/stop\":\"start\",#is it N or C termini -> do we need to look at start or stop codon for teh cut \n",
        "            'genome_start_codon_pos':400, \n",
        "            'genome_stop_codon_pos':700, #or only 1 of those \n",
        "            'strand_type':'+',\n",
        "            \"sgRNA_list_pos\":[[401,425],[456,467],[478,489],[395,415]],#those wil be as genome positions -assumptions - the coordinates correspond to the 1st and last bp of the strand to which the gsRNA will be complementary to\n",
        "            \"sgRNA_list_values\":[\"AAGCGACTA\",\"AAAAAAAATAAAAA\",\"ATATATTTTTTTTTTAAAAA\",\"AGCGCGAAATAATA\"]\n",
        "        }\n",
        "    '''\n",
        "    for i in range(0,len(df[\"sgRNA_list_values\"])):\n",
        "        cand=df[\"sgRNA_list_values\"][i]#canditate sgRNA\n",
        "        cand_len=len(cand) #canditates lenght \n",
        "        df[\"best_gsRNA\"]=[]\n",
        "        \n",
        "        if df['strand_type']==\"+\":\n",
        "            if df[\"start/stop\"]==\"start_codon\":\n",
        "                if cand[0:4]==\"ATGG\": #checking if the PAM (last 3bp of sgRNA) include a ATG- its NGG so only way it can include the G from ATG is if it is TGG or GGG\n",
        "                    df[\"best_gsRNA\"]=df[\"sgRNA_list_values\"][i]\n",
        "            if df[\"start/stop\"]==\"stop_codon\":\n",
        "                if cand[(cand_len-4):cand_len]==\"TAGG\":\n",
        "                    df[\"best_gsRNA\"]=df[\"sgRNA_list_values\"][i]\n",
        "        if df['strand_type']==\"-\":\n",
        "            if df[\"start/stop\"]==\"start_codon\":\n",
        "                if cand[(cand_len-4):cand_len]==\"TACC\":\n",
        "                    df[\"best_gsRNA\"]=df[\"sgRNA_list_values\"][i]\n",
        "            if df[\"start/stop\"]==\"stop_codon\":\n",
        "                if cand[0:4]==\"ATCC\":\n",
        "                    df[\"best_gsRNA\"]=df[\"sgRNA_list_values\"][i]\n",
        "        out=df[\"best_gsRNA\"]\n",
        "        return out"
      ]
    },
    {
      "cell_type": "code",
      "execution_count": null,
      "metadata": {
        "id": "a-VBoxR12Se2"
      },
      "outputs": [],
      "source": [
        "def exclude_over15(df):"
      ]
    },
    {
      "cell_type": "code",
      "execution_count": null,
      "metadata": {
        "id": "331Lrt_V2Se3"
      },
      "outputs": [],
      "source": [
        "  stop_start_pos = df[\"genome_start_codon_pos\"]\n",
        "  list_of_ok=[]\n",
        "  list_of_ok_pos=[]\n",
        "  for i in range(0, len(df[\"sgRNA_list_values\"])):\n",
        "    if abs(df[\"sgRNA_list_pos\"][i][0]-stop_start_pos)<16 and abs(df[\"sgRNA_list_pos\"][i][1]-stop_start_pos)<16:\n",
        "      list_of_ok.append(df[\"sgRNA_list_values\"][i])\n",
        "      list_of_ok_pos.append(df[\"sgRNA_list_pos\"][i])\n",
        "  df[\"sgRNA_list_values\"]=list_of_ok\n",
        "  df[\"sgRNA_list_pos\"]=list_of_ok_pos\n",
        "  return df[\"sgRNA_list_values\"],df['sgRNA_list_pos']"
      ]
    },
    {
      "cell_type": "code",
      "execution_count": null,
      "metadata": {
        "id": "THCYjXRb2Se5"
      },
      "outputs": [],
      "source": [
        "def select_closest(df):\n",
        "  list_of_dist=len(df[\"sgRNA_list_values\"])*[\"\"]\n",
        "  list_of_val=len(df[\"sgRNA_list_values\"])*[\"\"]\n",
        "  if df[\"strand_type\"]==\"+\":\n",
        "    for i in range(0,len(df[\"sgRNA_list_values\"])):\n",
        "        cutting_pos=(df[\"sgRNA_list_pos\"][i][0]+6)\n",
        "        if df[\"start/stop\"]==\"start_codon\":\n",
        "           start_stop_pos=df[\"genome_start_codon_pos\"]\n",
        "        else:\n",
        "          start_stop_pos=df[\"genome_stop_codon_pos\"]\n",
        "        dist=abs((cutting_pos-start_stop_pos))\n",
        "        list_of_dist[i]=dist\n",
        "        list_of_val[i]=df[\"sgRNA_list_values\"][i]\n",
        "  else:\n",
        "    cutting_pos=(df[\"sgRNA_list_pos\"][i][1]-6)\n",
        "    for i in range(0,len(df[\"sgRNA_list_values\"])):\n",
        "        if df[\"start/stop\"]==\"start_codon\":\n",
        "           start_stop_pos=df[\"genome_start_codon_pos\"]\n",
        "        else:\n",
        "            start_stop_pos=df[\"genome_stop_codon_pos\"]\n",
        "        dist=abs((cutting_pos-start_stop_pos)) \n",
        "        list_of_dist[i]=dist\n",
        "        list_of_val[i]=df[\"sgRNA_list_values\"][i]\n",
        "  smallest=min(list_of_dist)\n",
        "  for i in range(0,len(list_of_dist)):\n",
        "    if list_of_dist[i]==smallest:\n",
        "      best_sgRNA=list_of_val[i]"
      ]
    },
    {
      "cell_type": "code",
      "execution_count": null,
      "metadata": {
        "id": "r8cpKE5Z2Se9"
      },
      "outputs": [],
      "source": [
        "  return best_sgRNA"
      ]
    },
    {
      "cell_type": "code",
      "execution_count": null,
      "metadata": {
        "id": "qlPEciFc2Se9"
      },
      "outputs": [],
      "source": [
        "def find_best_gRNA(df):\n",
        "  best_sgRNA=check_start_stop_NGG(df)\n",
        "  \n",
        "  if best_sgRNA!=[]:\n",
        "    return best_sgRNA\n",
        "  else:\n",
        "    if df[\"start/stop\"]==\"start_codon\":\n",
        "      exclude_over15(df)\n",
        "    else:\n",
        "      exclude_over15(df) \n",
        "    if len(df['sgRNA_list_values'])!=0: #checking that any canditates met the condition\n",
        "      best_sgRNA=select_closest()\n",
        "  #if best_sgRNA!=[]:\n",
        "    #get a new batch of sgRNA's and reapet process\n",
        "  return best_sgRNA"
      ]
    },
    {
      "cell_type": "code",
      "execution_count": null,
      "metadata": {
        "id": "r673eqSu2Se-"
      },
      "outputs": [],
      "source": [
        "def filter_gRNA(gRNA_file, TF_dict):\n",
        "    '''\n",
        "    gRNA_file: gff file\n",
        "    TF_dict: dictionary\n",
        "    '''\n",
        "    import pandas as pd\n",
        "    \n",
        "\n",
        "    # creating a data frame from the gRNA files\n",
        "    # makes pandas dataframe from csv file\n",
        "    gRNAFileAnnotation = pd.read_csv(gRNA_file, sep = \"\\t\", index_col = False)\n",
        "\n",
        "    #This is to reformat the \"Attribute\" category in refGenomeAnnotation, to extract Gene_ID, Gene_Symbol, and Transcript ID\n",
        "    #index = 0\n",
        "\n",
        "    #Add new categories to the dataframe\n",
        "    gRNAFileAnnotation = gRNAFileAnnotation.assign(target_site_variation= \"\")\n",
        "\n",
        "    #This is to reformat the \"Attribute\" category in refGenomeAnnotation, to extract Gene_ID, Gene_Symbol, and Transcript ID\n",
        "    index = 0\n",
        "\n",
        "    #For each attribute value, extract the gene ID and symbol and add this to the new categories\n",
        "    for attribute in gRNAFileAnnotation['attributes']:\n",
        "        fullatt = (gRNAFileAnnotation.loc[index][\"attributes\"]).split(\";\")\n",
        "        gRNAFileAnnotation.at[index,\"target_site_variation\"] = fullatt[8]\n",
        "        index+=1\n",
        "    \n",
        "    # shorten file to essential information\n",
        "    GenomeCoordinates = gRNAFileAnnotation.loc[:,[\"target_site_variation\", \"fmin\", \"fmax\"]]\n",
        "\n",
        "    #filter out Start and Stop sequences within TF gene\n",
        "    num_gRNA_matches = 1\n",
        "\n",
        "    #initialize a list that stores the positions of the gRNAs\n",
        "    gRNA_list_pos = []\n",
        "    \n",
        "    for gRNA in range(len(GenomeCoordinates)):\n",
        "        \n",
        "        if int(GenomeCoordinates['fmin'].iloc[gRNA]) >= TF_dict[\"Start\"] - 20 and int(GenomeCoordinates['fmax'].iloc[gRNA]) <= TF_dict[\"Stop\"] + 20 \\\n",
        "            and GenomeCoordinates['target_site_variation'].iloc[gRNA] == \"target_site_variation=none observed\":\n",
        "            \n",
        "            gRNA_list_pos.append([int(GenomeCoordinates['fmin'].iloc[gRNA]), int(GenomeCoordinates['fmax'].iloc[gRNA])])\n",
        "            num_gRNA_matches = num_gRNA_matches + 1\n",
        "        \n",
        "    TF_dict[\"sgRNA_list_pos\"] = gRNA_list_pos\n",
        "    return(TF_dict)"
      ]
    },
    {
      "cell_type": "code",
      "execution_count": null,
      "metadata": {
        "id": "cvRlgTY02SfA"
      },
      "outputs": [],
      "source": [
        "def make_list_of_dict_from_df(TF_genes_list):\n",
        "    import pandas as pd\n",
        "    TF_list_of_dict = []\n",
        "    TFsdf = pd.read_csv(TF_genes_list, sep = \"\\t\", index_col = False)\n",
        "    TFsdict = {}\n",
        "    for index, rowcontents in TFsdf.iterrows():\n",
        "        TFsdict[index] = rowcontents.to_dict()\n",
        "    print(TFsdict)"
      ]
    },
    {
      "cell_type": "code",
      "execution_count": null,
      "metadata": {
        "id": "SvTCrgxd2SfB"
      },
      "outputs": [],
      "source": [
        "def does_log_exist(TF_list, ref_genome, annotation, transgenic_genome_chr2, transgenic_genome_chr3):\n",
        "    from os.path import exists\n",
        "    import pandas as pd\n",
        "    if exists(\"TF_log_mock.csv\"):\n",
        "        print(\"logfile exists\")\n",
        "        \n",
        "    else:\n",
        "        print(\"logfile does not yet exist ... creating log file\")\n",
        "        TFsdf = make_dataframe_from_TFs_list(TF_list, ref_genome, annotation, transgenic_genome_chr2, transgenic_genome_chr3)\n",
        "    \n",
        "    return"
      ]
    },
    {
      "cell_type": "code",
      "execution_count": null,
      "metadata": {
        "id": "HbCprR462SfC"
      },
      "outputs": [],
      "source": [
        "def revComp(inputSeq):\n",
        "  \"\"\"\n",
        "  This function takes an input sequence and returns the reverse complement.\n",
        "  \n",
        "  Input: inputSeq in str format\n",
        "  Output: revComp in str format\n",
        "  \"\"\"\n",
        "  \n",
        "  complement = {'A': 'T', 'C': 'G', 'G': 'C', 'T': 'A'}\n",
        "\n",
        "  revComp = \"\"\n",
        "  for base in inputSeq[::-1]:\n",
        "    revComp += complement[(base.upper())]\n",
        "  return revComp"
      ]
    },
    {
      "cell_type": "code",
      "source": [
        "def make_dataframe_from_TFs_list(TF_list, ref_genome, annotation, transgenic_genome_chr2, transgenic_genome_chr3):\n",
        "    '''\n",
        "    input\n",
        "    output\n",
        "    '''\n",
        "\n",
        "    import pandas as pd\n",
        "    from Bio import SeqIO\n",
        "\n",
        "    #This is the input file containing the TFs we want to query\n",
        "    #Imported as a pandas dataframe\n",
        "    queryTFsdf = pd.read_excel(TF_list)\n",
        "\n",
        "    #This is the .gtf file with annotations for each gene on the reference genome\n",
        "    refAnnotationsHeaders = [\"Chromosome\", \"Source\", \"Gene_Region\", \"Start\", \"Stop\", \"Score\", \"Strand\", \"Frame\", \"Attribute\"]\n",
        "    refGenomeAnnotation = pd.read_csv(annotation, sep = \"\\t\", header = None, index_col = False, names = refAnnotationsHeaders)\n",
        "\n",
        "    #This is the FASTA file of the reference genome sequence\n",
        "    refSeqPerChromosome = {}\n",
        "    for seq in SeqIO.parse(open(ref_genome), 'fasta'):\n",
        "        refSeqPerChromosome[seq.id] = seq.seq\n",
        "    \n",
        "    #This is to reformat the \"Attribute\" category in refGenomeAnnotation, to extract Gene_ID, Gene_Symbol, and Transcript ID\n",
        "    index = 0\n",
        "\n",
        "    #Add new categories to the dataframe\n",
        "    refGenomeAnnotation = refGenomeAnnotation.assign(Gene_ID = \"\", Gene_Symbol = \"\", Transcript_ID = \"\")\n",
        "\n",
        "    #For each attribute value, extract the gene ID and symbol and add this to the new categories\n",
        "    for attribute in refGenomeAnnotation['Attribute']:\n",
        "        fullatt = (refGenomeAnnotation.loc[index][\"Attribute\"]).replace(\";\", \"\")\n",
        "        fullatt = fullatt.replace('\"', \"\")\n",
        "        fullattsplit = fullatt.split(\" \")\n",
        "        refGenomeAnnotation.at[index,\"Gene_ID\"] = fullattsplit[1]\n",
        "        refGenomeAnnotation.at[index,\"Gene_Symbol\"] = fullattsplit[3]\n",
        "        if len(fullattsplit) == 8:\n",
        "            refGenomeAnnotation.at[index,\"Transcript_ID\"] = fullattsplit[5]\n",
        "        index+=1\n",
        "\n",
        "    #Delete Attributes category\n",
        "    del refGenomeAnnotation[\"Attribute\"]\n",
        "\n",
        "    #Select only rows that TFs are in, and keep only the start and stop codon gene regions\n",
        "\n",
        "    refGenomeAnnotation = refGenomeAnnotation.loc[refGenomeAnnotation[\"Gene_Region\"].isin([\"start_codon\", \"stop_codon\"])]\n",
        "\n",
        "    TFsdf = refGenomeAnnotation[[\"Gene_ID\", \"Transcript_ID\", \"Chromosome\", \"Gene_Region\", \"Start\", \"Stop\", \"Strand\"]].loc[refGenomeAnnotation[\"Gene_ID\"].isin(queryTFsdf[\"Flybase_ID\"])]\n",
        "\n",
        "    #Add reference genome sequence per gene region\n",
        "    #This will correspond to 1.3kb upstream and downstream of ATG/stop codon \n",
        "    TFsdf = TFsdf.assign(Reference_Seq = \"\", Transgenic_Seq = \"\")\n",
        "\n",
        "    for index, rowcontents in TFsdf.iterrows():\n",
        "        if rowcontents[\"Strand\"] == \"+\":\n",
        "\n",
        "            #Define 2.6kb gene region\n",
        "            regionStart = rowcontents[\"Start\"] - 1701\n",
        "            regionStop = rowcontents[\"Stop\"] + 1700\n",
        "\n",
        "            #Add reference sequence\n",
        "            TFsdf.at[index,\"Reference_Seq\"] = str(refSeqPerChromosome[rowcontents[\"Chromosome\"]][regionStart:regionStop])\n",
        "\n",
        "        if rowcontents[\"Strand\"] == \"-\":\n",
        "\n",
        "            #Define 2.6kb gene region\n",
        "            regionStart = rowcontents[\"Start\"] - 1701\n",
        "            regionStop = rowcontents[\"Stop\"] + 1700\n",
        "\n",
        "            #Add reference sequence\n",
        "            refPosStrandSeq = str(refSeqPerChromosome[rowcontents[\"Chromosome\"]][regionStart:regionStop]) #This is the + strand seq, so goes from end to beginning\n",
        "            TFsdf.at[index,\"Reference_Seq\"] = revComp(refPosStrandSeq)\n",
        "\n",
        "    TFsdict_of_dict = {}\n",
        "    for index, rowcontents in TFsdf.iterrows():\n",
        "        TFsdict_of_dict[index] = rowcontents.to_dict()\n",
        "\n",
        "    return TFsdf, TFsdict_of_dict"
      ],
      "metadata": {
        "id": "rVDkuqC43Wxo"
      },
      "execution_count": null,
      "outputs": []
    },
    {
      "cell_type": "code",
      "execution_count": null,
      "metadata": {
        "id": "Qw1hPKMi2SfD"
      },
      "outputs": [],
      "source": []
    }
  ],
  "metadata": {
    "kernelspec": {
      "display_name": "Python 3",
      "language": "python",
      "name": "python3"
    },
    "language_info": {
      "codemirror_mode": {
        "name": "ipython",
        "version": 3
      },
      "file_extension": ".py",
      "mimetype": "text/x-python",
      "name": "python",
      "nbconvert_exporter": "python",
      "pygments_lexer": "ipython3",
      "version": "3.6.4"
    },
    "colab": {
      "provenance": [],
      "include_colab_link": true
    }
  },
  "nbformat": 4,
  "nbformat_minor": 0
}