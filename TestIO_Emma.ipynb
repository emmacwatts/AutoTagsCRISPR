{
  "nbformat": 4,
  "nbformat_minor": 0,
  "metadata": {
    "colab": {
      "provenance": [],
      "mount_file_id": "1NIElk79hU6u2qOxhXVId8bHxr5MNes3I",
      "authorship_tag": "ABX9TyOO0+382peq30ii+um02WfC",
      "include_colab_link": true
    },
    "kernelspec": {
      "name": "python3",
      "display_name": "Python 3"
    },
    "language_info": {
      "name": "python"
    }
  },
  "cells": [
    {
      "cell_type": "markdown",
      "metadata": {
        "id": "view-in-github",
        "colab_type": "text"
      },
      "source": [
        "<a href=\"https://colab.research.google.com/github/emmacwatts/AutoTagsCRISPR/blob/emmacwatts-emmaIO/TestIO_Emma.ipynb\" target=\"_parent\"><img src=\"https://colab.research.google.com/assets/colab-badge.svg\" alt=\"Open In Colab\"/></a>"
      ]
    },
    {
      "cell_type": "code",
      "execution_count": 1,
      "metadata": {
        "id": "eE_76HW8Zn4h"
      },
      "outputs": [],
      "source": [
        "def make_dataframe_from_TFs_list(TF_list, ref_genome, annotation):\n",
        "    '''\n",
        "    Extracts information and sequence region for genes of interest (TFs) for design of primers per gene.\n",
        "\n",
        "    Input: \n",
        "      TFs_list: excel file of query sequences with Gene_ID and Transcript_ID\n",
        "      ref_genome: fasta file for reference genome\n",
        "      annotation: .gtf file for ref_genome\n",
        "    \n",
        "    Output\n",
        "      TFsdf: dataframe of TF information and sequences\n",
        "      TFsdict_of_dict: TFsdf as a dictionary of dictionaries per index\n",
        "    '''\n",
        "\n",
        "    import pandas as pd\n",
        "    from Bio import SeqIO\n",
        "\n",
        "    #This is the input file containing the TFs we want to query\n",
        "    #Imported as a pandas dataframe\n",
        "    queryTFsdf = pd.read_excel(TF_list)\n",
        "\n",
        "    #This is the .gtf file with annotations for each gene on the reference genome\n",
        "    refAnnotationsHeaders = [\"Chromosome\", \"Source\", \"Gene_Region\", \"Start\", \"Stop\", \"Score\", \"Strand\", \"Frame\", \"Attribute\"]\n",
        "    refGenomeAnnotation = pd.read_csv(annotation, sep = \"\\t\", header = None, index_col = False, names = refAnnotationsHeaders)\n",
        "\n",
        "    #This is the FASTA file of the reference genome sequence\n",
        "    refSeqPerChromosome = {}\n",
        "    for seq in SeqIO.parse(open(ref_genome), 'fasta'):\n",
        "        refSeqPerChromosome[seq.id] = seq.seq\n",
        "    \n",
        "    #This is to reformat the \"Attribute\" category in refGenomeAnnotation, to extract Gene_ID, Gene_Symbol, and Transcript ID\n",
        "    index = 0\n",
        "\n",
        "    #Add new categories to the dataframe\n",
        "    refGenomeAnnotation = refGenomeAnnotation.assign(Gene_ID = \"\", Gene_Symbol = \"\", Transcript_ID = \"\")\n",
        "\n",
        "    #For each attribute value, extract the gene ID and symbol and add this to the new categories\n",
        "    for attribute in refGenomeAnnotation['Attribute']:\n",
        "        fullatt = (refGenomeAnnotation.loc[index][\"Attribute\"]).replace(\";\", \"\")\n",
        "        fullatt = fullatt.replace('\"', \"\")\n",
        "        fullattsplit = fullatt.split(\" \")\n",
        "        refGenomeAnnotation.at[index,\"Gene_ID\"] = fullattsplit[1]\n",
        "        refGenomeAnnotation.at[index,\"Gene_Symbol\"] = fullattsplit[3]\n",
        "        if len(fullattsplit) == 8:\n",
        "            refGenomeAnnotation.at[index,\"Transcript_ID\"] = fullattsplit[5]\n",
        "        index+=1\n",
        "\n",
        "    #Delete Attributes category\n",
        "    del refGenomeAnnotation[\"Attribute\"]\n",
        "\n",
        "    #Select only rows that TFs are in, and keep only the start and stop codon gene regions\n",
        "\n",
        "    refGenomeAnnotation = refGenomeAnnotation.loc[refGenomeAnnotation[\"Gene_Region\"].isin([\"start_codon\", \"stop_codon\"])]\n",
        "\n",
        "    TFsdf = refGenomeAnnotation[[\"Gene_ID\", \"Gene_Symbol\", \"Transcript_ID\", \"Chromosome\", \"Gene_Region\", \"Start\", \"Stop\", \"Strand\"]].loc[refGenomeAnnotation[\"Gene_ID\"].isin(queryTFsdf[\"Flybase_ID\"])]\n",
        "\n",
        "    #Add reference genome sequence per gene region\n",
        "    #This will correspond to 1.3kb upstream and downstream of ATG/stop codon \n",
        "    TFsdf = TFsdf.assign(Reference_Seq = \"\")\n",
        "\n",
        "    for index, rowcontents in TFsdf.iterrows():\n",
        "        if rowcontents[\"Strand\"] == \"+\":\n",
        "\n",
        "            #Define 2.6kb gene region\n",
        "            regionStart = rowcontents[\"Start\"] - 1701\n",
        "            regionStop = rowcontents[\"Stop\"] + 1700\n",
        "\n",
        "            #Add reference sequence\n",
        "            TFsdf.at[index,\"Reference_Seq\"] = str(refSeqPerChromosome[rowcontents[\"Chromosome\"]][regionStart:regionStop])\n",
        "\n",
        "        if rowcontents[\"Strand\"] == \"-\":\n",
        "\n",
        "            #Define 2.6kb gene region\n",
        "            regionStart = rowcontents[\"Start\"] - 1701\n",
        "            regionStop = rowcontents[\"Stop\"] + 1700\n",
        "\n",
        "            #Add reference sequence\n",
        "            refPosStrandSeq = str(refSeqPerChromosome[rowcontents[\"Chromosome\"]][regionStart:regionStop]) #This is the + strand seq, so goes from end to beginning\n",
        "            TFsdf.at[index,\"Reference_Seq\"] = revComp(refPosStrandSeq)\n",
        "\n",
        "    #re-index\n",
        "    TFsdf = TFsdf.reset_index()\n",
        "    del TFsdf[\"index\"]\n",
        "\n",
        "    #Create a dictionary of dictionaries for the df\n",
        "    TFsdict_of_dict = {}\n",
        "    for index, rowcontents in TFsdf.iterrows():\n",
        "        TFsdict_of_dict[index] = rowcontents.to_dict()\n",
        "\n",
        "    return TFsdf, TFsdict_of_dict"
      ]
    },
    {
      "cell_type": "code",
      "source": [
        "#Import packages\n",
        "!pip install biopython\n",
        "import pandas as pd\n",
        "from Bio import SeqIO"
      ],
      "metadata": {
        "id": "uNFZF7PqZo5Z"
      },
      "execution_count": null,
      "outputs": []
    },
    {
      "cell_type": "code",
      "source": [
        "#Upload files\n",
        "from google.colab import drive\n",
        "drive.mount('/content/drive')\n",
        "\n",
        "#This is the input file containing the TFs we want to find sgRNA seq/primers for\n",
        "#Imported as a pandas dataframe\n",
        "TF_list = open('/content/drive/MyDrive/Colab Notebooks/Bioinformatics/TFs.xlsx', \"r\")\n",
        "#Ths contains 765 TFs total\n",
        "\n",
        "#This is the .gtf file with annotations for each gene\n",
        "annotation = open('/content/drive/MyDrive/Colab Notebooks/Bioinformatics/dmel-all-r6.48.gtf', \"r\")\n",
        "\n",
        "#This is the FASTA file of the full genome sequence\n",
        "ref_genome = open('/content/drive/MyDrive/Colab Notebooks/Bioinformatics/dmel-all-chromosome-r6.48.fasta', \"r\")"
      ],
      "metadata": {
        "colab": {
          "base_uri": "https://localhost:8080/"
        },
        "id": "M6M4LT6Pb_QU",
        "outputId": "6e9aaeb5-0f9b-4fd7-e0f5-c4677e715daf"
      },
      "execution_count": 8,
      "outputs": [
        {
          "output_type": "stream",
          "name": "stdout",
          "text": [
            "Drive already mounted at /content/drive; to attempt to forcibly remount, call drive.mount(\"/content/drive\", force_remount=True).\n"
          ]
        }
      ]
    },
    {
      "cell_type": "code",
      "source": [
        "make_dataframe_from_TFs_list(TF_list, ref_genome, annotation)"
      ],
      "metadata": {
        "colab": {
          "base_uri": "https://localhost:8080/",
          "height": 327
        },
        "id": "ltlG5-Gbac3a",
        "outputId": "5e0b401f-3e93-42c3-a01b-93e3ce173557"
      },
      "execution_count": 9,
      "outputs": [
        {
          "output_type": "error",
          "ename": "UnicodeDecodeError",
          "evalue": "ignored",
          "traceback": [
            "\u001b[0;31m---------------------------------------------------------------------------\u001b[0m",
            "\u001b[0;31mUnicodeDecodeError\u001b[0m                        Traceback (most recent call last)",
            "\u001b[0;32m<ipython-input-9-70fe11b779ae>\u001b[0m in \u001b[0;36m<module>\u001b[0;34m\u001b[0m\n\u001b[0;32m----> 1\u001b[0;31m \u001b[0mmake_dataframe_from_TFs_list\u001b[0m\u001b[0;34m(\u001b[0m\u001b[0mTF_list\u001b[0m\u001b[0;34m,\u001b[0m \u001b[0mref_genome\u001b[0m\u001b[0;34m,\u001b[0m \u001b[0mannotation\u001b[0m\u001b[0;34m)\u001b[0m\u001b[0;34m\u001b[0m\u001b[0;34m\u001b[0m\u001b[0m\n\u001b[0m",
            "\u001b[0;32m<ipython-input-1-c5ae75e14b20>\u001b[0m in \u001b[0;36mmake_dataframe_from_TFs_list\u001b[0;34m(TF_list, ref_genome, annotation)\u001b[0m\n\u001b[1;32m     18\u001b[0m     \u001b[0;31m#This is the input file containing the TFs we want to query\u001b[0m\u001b[0;34m\u001b[0m\u001b[0;34m\u001b[0m\u001b[0;34m\u001b[0m\u001b[0m\n\u001b[1;32m     19\u001b[0m     \u001b[0;31m#Imported as a pandas dataframe\u001b[0m\u001b[0;34m\u001b[0m\u001b[0;34m\u001b[0m\u001b[0;34m\u001b[0m\u001b[0m\n\u001b[0;32m---> 20\u001b[0;31m     \u001b[0mqueryTFsdf\u001b[0m \u001b[0;34m=\u001b[0m \u001b[0mpd\u001b[0m\u001b[0;34m.\u001b[0m\u001b[0mread_excel\u001b[0m\u001b[0;34m(\u001b[0m\u001b[0mTF_list\u001b[0m\u001b[0;34m)\u001b[0m\u001b[0;34m\u001b[0m\u001b[0;34m\u001b[0m\u001b[0m\n\u001b[0m\u001b[1;32m     21\u001b[0m \u001b[0;34m\u001b[0m\u001b[0m\n\u001b[1;32m     22\u001b[0m     \u001b[0;31m#This is the .gtf file with annotations for each gene on the reference genome\u001b[0m\u001b[0;34m\u001b[0m\u001b[0;34m\u001b[0m\u001b[0;34m\u001b[0m\u001b[0m\n",
            "\u001b[0;32m/usr/local/lib/python3.8/dist-packages/pandas/util/_decorators.py\u001b[0m in \u001b[0;36mwrapper\u001b[0;34m(*args, **kwargs)\u001b[0m\n\u001b[1;32m    309\u001b[0m                     \u001b[0mstacklevel\u001b[0m\u001b[0;34m=\u001b[0m\u001b[0mstacklevel\u001b[0m\u001b[0;34m,\u001b[0m\u001b[0;34m\u001b[0m\u001b[0;34m\u001b[0m\u001b[0m\n\u001b[1;32m    310\u001b[0m                 )\n\u001b[0;32m--> 311\u001b[0;31m             \u001b[0;32mreturn\u001b[0m \u001b[0mfunc\u001b[0m\u001b[0;34m(\u001b[0m\u001b[0;34m*\u001b[0m\u001b[0margs\u001b[0m\u001b[0;34m,\u001b[0m \u001b[0;34m**\u001b[0m\u001b[0mkwargs\u001b[0m\u001b[0;34m)\u001b[0m\u001b[0;34m\u001b[0m\u001b[0;34m\u001b[0m\u001b[0m\n\u001b[0m\u001b[1;32m    312\u001b[0m \u001b[0;34m\u001b[0m\u001b[0m\n\u001b[1;32m    313\u001b[0m         \u001b[0;32mreturn\u001b[0m \u001b[0mwrapper\u001b[0m\u001b[0;34m\u001b[0m\u001b[0;34m\u001b[0m\u001b[0m\n",
            "\u001b[0;32m/usr/local/lib/python3.8/dist-packages/pandas/io/excel/_base.py\u001b[0m in \u001b[0;36mread_excel\u001b[0;34m(io, sheet_name, header, names, index_col, usecols, squeeze, dtype, engine, converters, true_values, false_values, skiprows, nrows, na_values, keep_default_na, na_filter, verbose, parse_dates, date_parser, thousands, comment, skipfooter, convert_float, mangle_dupe_cols, storage_options)\u001b[0m\n\u001b[1;32m    362\u001b[0m     \u001b[0;32mif\u001b[0m \u001b[0;32mnot\u001b[0m \u001b[0misinstance\u001b[0m\u001b[0;34m(\u001b[0m\u001b[0mio\u001b[0m\u001b[0;34m,\u001b[0m \u001b[0mExcelFile\u001b[0m\u001b[0;34m)\u001b[0m\u001b[0;34m:\u001b[0m\u001b[0;34m\u001b[0m\u001b[0;34m\u001b[0m\u001b[0m\n\u001b[1;32m    363\u001b[0m         \u001b[0mshould_close\u001b[0m \u001b[0;34m=\u001b[0m \u001b[0;32mTrue\u001b[0m\u001b[0;34m\u001b[0m\u001b[0;34m\u001b[0m\u001b[0m\n\u001b[0;32m--> 364\u001b[0;31m         \u001b[0mio\u001b[0m \u001b[0;34m=\u001b[0m \u001b[0mExcelFile\u001b[0m\u001b[0;34m(\u001b[0m\u001b[0mio\u001b[0m\u001b[0;34m,\u001b[0m \u001b[0mstorage_options\u001b[0m\u001b[0;34m=\u001b[0m\u001b[0mstorage_options\u001b[0m\u001b[0;34m,\u001b[0m \u001b[0mengine\u001b[0m\u001b[0;34m=\u001b[0m\u001b[0mengine\u001b[0m\u001b[0;34m)\u001b[0m\u001b[0;34m\u001b[0m\u001b[0;34m\u001b[0m\u001b[0m\n\u001b[0m\u001b[1;32m    365\u001b[0m     \u001b[0;32melif\u001b[0m \u001b[0mengine\u001b[0m \u001b[0;32mand\u001b[0m \u001b[0mengine\u001b[0m \u001b[0;34m!=\u001b[0m \u001b[0mio\u001b[0m\u001b[0;34m.\u001b[0m\u001b[0mengine\u001b[0m\u001b[0;34m:\u001b[0m\u001b[0;34m\u001b[0m\u001b[0;34m\u001b[0m\u001b[0m\n\u001b[1;32m    366\u001b[0m         raise ValueError(\n",
            "\u001b[0;32m/usr/local/lib/python3.8/dist-packages/pandas/io/excel/_base.py\u001b[0m in \u001b[0;36m__init__\u001b[0;34m(self, path_or_buffer, engine, storage_options)\u001b[0m\n\u001b[1;32m   1189\u001b[0m                 \u001b[0mext\u001b[0m \u001b[0;34m=\u001b[0m \u001b[0;34m\"xls\"\u001b[0m\u001b[0;34m\u001b[0m\u001b[0;34m\u001b[0m\u001b[0m\n\u001b[1;32m   1190\u001b[0m             \u001b[0;32melse\u001b[0m\u001b[0;34m:\u001b[0m\u001b[0;34m\u001b[0m\u001b[0;34m\u001b[0m\u001b[0m\n\u001b[0;32m-> 1191\u001b[0;31m                 ext = inspect_excel_format(\n\u001b[0m\u001b[1;32m   1192\u001b[0m                     \u001b[0mcontent_or_path\u001b[0m\u001b[0;34m=\u001b[0m\u001b[0mpath_or_buffer\u001b[0m\u001b[0;34m,\u001b[0m \u001b[0mstorage_options\u001b[0m\u001b[0;34m=\u001b[0m\u001b[0mstorage_options\u001b[0m\u001b[0;34m\u001b[0m\u001b[0;34m\u001b[0m\u001b[0m\n\u001b[1;32m   1193\u001b[0m                 )\n",
            "\u001b[0;32m/usr/local/lib/python3.8/dist-packages/pandas/io/excel/_base.py\u001b[0m in \u001b[0;36minspect_excel_format\u001b[0;34m(content_or_path, storage_options)\u001b[0m\n\u001b[1;32m   1073\u001b[0m         \u001b[0mstream\u001b[0m \u001b[0;34m=\u001b[0m \u001b[0mhandle\u001b[0m\u001b[0;34m.\u001b[0m\u001b[0mhandle\u001b[0m\u001b[0;34m\u001b[0m\u001b[0;34m\u001b[0m\u001b[0m\n\u001b[1;32m   1074\u001b[0m         \u001b[0mstream\u001b[0m\u001b[0;34m.\u001b[0m\u001b[0mseek\u001b[0m\u001b[0;34m(\u001b[0m\u001b[0;36m0\u001b[0m\u001b[0;34m)\u001b[0m\u001b[0;34m\u001b[0m\u001b[0;34m\u001b[0m\u001b[0m\n\u001b[0;32m-> 1075\u001b[0;31m         \u001b[0mbuf\u001b[0m \u001b[0;34m=\u001b[0m \u001b[0mstream\u001b[0m\u001b[0;34m.\u001b[0m\u001b[0mread\u001b[0m\u001b[0;34m(\u001b[0m\u001b[0mPEEK_SIZE\u001b[0m\u001b[0;34m)\u001b[0m\u001b[0;34m\u001b[0m\u001b[0;34m\u001b[0m\u001b[0m\n\u001b[0m\u001b[1;32m   1076\u001b[0m         \u001b[0;32mif\u001b[0m \u001b[0mbuf\u001b[0m \u001b[0;32mis\u001b[0m \u001b[0;32mNone\u001b[0m\u001b[0;34m:\u001b[0m\u001b[0;34m\u001b[0m\u001b[0;34m\u001b[0m\u001b[0m\n\u001b[1;32m   1077\u001b[0m             \u001b[0;32mraise\u001b[0m \u001b[0mValueError\u001b[0m\u001b[0;34m(\u001b[0m\u001b[0;34m\"stream is empty\"\u001b[0m\u001b[0;34m)\u001b[0m\u001b[0;34m\u001b[0m\u001b[0;34m\u001b[0m\u001b[0m\n",
            "\u001b[0;32m/usr/lib/python3.8/codecs.py\u001b[0m in \u001b[0;36mdecode\u001b[0;34m(self, input, final)\u001b[0m\n\u001b[1;32m    320\u001b[0m         \u001b[0;31m# decode input (taking the buffer into account)\u001b[0m\u001b[0;34m\u001b[0m\u001b[0;34m\u001b[0m\u001b[0;34m\u001b[0m\u001b[0m\n\u001b[1;32m    321\u001b[0m         \u001b[0mdata\u001b[0m \u001b[0;34m=\u001b[0m \u001b[0mself\u001b[0m\u001b[0;34m.\u001b[0m\u001b[0mbuffer\u001b[0m \u001b[0;34m+\u001b[0m \u001b[0minput\u001b[0m\u001b[0;34m\u001b[0m\u001b[0;34m\u001b[0m\u001b[0m\n\u001b[0;32m--> 322\u001b[0;31m         \u001b[0;34m(\u001b[0m\u001b[0mresult\u001b[0m\u001b[0;34m,\u001b[0m \u001b[0mconsumed\u001b[0m\u001b[0;34m)\u001b[0m \u001b[0;34m=\u001b[0m \u001b[0mself\u001b[0m\u001b[0;34m.\u001b[0m\u001b[0m_buffer_decode\u001b[0m\u001b[0;34m(\u001b[0m\u001b[0mdata\u001b[0m\u001b[0;34m,\u001b[0m \u001b[0mself\u001b[0m\u001b[0;34m.\u001b[0m\u001b[0merrors\u001b[0m\u001b[0;34m,\u001b[0m \u001b[0mfinal\u001b[0m\u001b[0;34m)\u001b[0m\u001b[0;34m\u001b[0m\u001b[0;34m\u001b[0m\u001b[0m\n\u001b[0m\u001b[1;32m    323\u001b[0m         \u001b[0;31m# keep undecoded input until the next call\u001b[0m\u001b[0;34m\u001b[0m\u001b[0;34m\u001b[0m\u001b[0;34m\u001b[0m\u001b[0m\n\u001b[1;32m    324\u001b[0m         \u001b[0mself\u001b[0m\u001b[0;34m.\u001b[0m\u001b[0mbuffer\u001b[0m \u001b[0;34m=\u001b[0m \u001b[0mdata\u001b[0m\u001b[0;34m[\u001b[0m\u001b[0mconsumed\u001b[0m\u001b[0;34m:\u001b[0m\u001b[0;34m]\u001b[0m\u001b[0;34m\u001b[0m\u001b[0;34m\u001b[0m\u001b[0m\n",
            "\u001b[0;31mUnicodeDecodeError\u001b[0m: 'utf-8' codec can't decode byte 0xfa in position 16: invalid start byte"
          ]
        }
      ]
    }
  ]
}